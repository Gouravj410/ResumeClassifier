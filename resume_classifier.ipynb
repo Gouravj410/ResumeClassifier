{
  "nbformat": 4,
  "nbformat_minor": 0,
  "metadata": {
    "colab": {
      "provenance": []
    },
    "kernelspec": {
      "name": "python3",
      "display_name": "Python 3"
    },
    "language_info": {
      "name": "python"
    }
  },
  "cells": [
    {
      "cell_type": "code",
      "source": [
        "#Upload data from your file path\n",
        "import pandas as pd\n",
        "\n",
        "path = \"/content/drive/MyDrive/gourav/DataScience/Internship/Veridia/ResumeClassifier/Resume/Resume.csv\"\n",
        "\n",
        "df = pd.read_csv(path)"
      ],
      "metadata": {
        "id": "cumttSpC9tqz"
      },
      "execution_count": 30,
      "outputs": []
    },
    {
      "cell_type": "markdown",
      "source": [
        "Phase 1: Understand the Dataset"
      ],
      "metadata": {
        "id": "F8mAkPuVgSR7"
      }
    },
    {
      "cell_type": "code",
      "source": [
        "#First 5 rows\n",
        "df.head()"
      ],
      "metadata": {
        "colab": {
          "base_uri": "https://localhost:8080/",
          "height": 293
        },
        "id": "voYvf_-_Jk9V",
        "outputId": "0d927ef7-cd4d-4735-e325-7b766cbd51b0"
      },
      "execution_count": 31,
      "outputs": [
        {
          "output_type": "execute_result",
          "data": {
            "text/plain": [
              "         ID                                         Resume_str  \\\n",
              "0  16852973           HR ADMINISTRATOR/MARKETING ASSOCIATE\\...   \n",
              "1  22323967           HR SPECIALIST, US HR OPERATIONS      ...   \n",
              "2  33176873           HR DIRECTOR       Summary      Over 2...   \n",
              "3  27018550           HR SPECIALIST       Summary    Dedica...   \n",
              "4  17812897           HR MANAGER         Skill Highlights  ...   \n",
              "\n",
              "                                         Resume_html Category  \n",
              "0  <div class=\"fontsize fontface vmargins hmargin...       HR  \n",
              "1  <div class=\"fontsize fontface vmargins hmargin...       HR  \n",
              "2  <div class=\"fontsize fontface vmargins hmargin...       HR  \n",
              "3  <div class=\"fontsize fontface vmargins hmargin...       HR  \n",
              "4  <div class=\"fontsize fontface vmargins hmargin...       HR  "
            ],
            "text/html": [
              "\n",
              "  <div id=\"df-c25f3936-dc10-41d3-8036-90e73870f52e\" class=\"colab-df-container\">\n",
              "    <div>\n",
              "<style scoped>\n",
              "    .dataframe tbody tr th:only-of-type {\n",
              "        vertical-align: middle;\n",
              "    }\n",
              "\n",
              "    .dataframe tbody tr th {\n",
              "        vertical-align: top;\n",
              "    }\n",
              "\n",
              "    .dataframe thead th {\n",
              "        text-align: right;\n",
              "    }\n",
              "</style>\n",
              "<table border=\"1\" class=\"dataframe\">\n",
              "  <thead>\n",
              "    <tr style=\"text-align: right;\">\n",
              "      <th></th>\n",
              "      <th>ID</th>\n",
              "      <th>Resume_str</th>\n",
              "      <th>Resume_html</th>\n",
              "      <th>Category</th>\n",
              "    </tr>\n",
              "  </thead>\n",
              "  <tbody>\n",
              "    <tr>\n",
              "      <th>0</th>\n",
              "      <td>16852973</td>\n",
              "      <td>HR ADMINISTRATOR/MARKETING ASSOCIATE\\...</td>\n",
              "      <td>&lt;div class=\"fontsize fontface vmargins hmargin...</td>\n",
              "      <td>HR</td>\n",
              "    </tr>\n",
              "    <tr>\n",
              "      <th>1</th>\n",
              "      <td>22323967</td>\n",
              "      <td>HR SPECIALIST, US HR OPERATIONS      ...</td>\n",
              "      <td>&lt;div class=\"fontsize fontface vmargins hmargin...</td>\n",
              "      <td>HR</td>\n",
              "    </tr>\n",
              "    <tr>\n",
              "      <th>2</th>\n",
              "      <td>33176873</td>\n",
              "      <td>HR DIRECTOR       Summary      Over 2...</td>\n",
              "      <td>&lt;div class=\"fontsize fontface vmargins hmargin...</td>\n",
              "      <td>HR</td>\n",
              "    </tr>\n",
              "    <tr>\n",
              "      <th>3</th>\n",
              "      <td>27018550</td>\n",
              "      <td>HR SPECIALIST       Summary    Dedica...</td>\n",
              "      <td>&lt;div class=\"fontsize fontface vmargins hmargin...</td>\n",
              "      <td>HR</td>\n",
              "    </tr>\n",
              "    <tr>\n",
              "      <th>4</th>\n",
              "      <td>17812897</td>\n",
              "      <td>HR MANAGER         Skill Highlights  ...</td>\n",
              "      <td>&lt;div class=\"fontsize fontface vmargins hmargin...</td>\n",
              "      <td>HR</td>\n",
              "    </tr>\n",
              "  </tbody>\n",
              "</table>\n",
              "</div>\n",
              "    <div class=\"colab-df-buttons\">\n",
              "\n",
              "  <div class=\"colab-df-container\">\n",
              "    <button class=\"colab-df-convert\" onclick=\"convertToInteractive('df-c25f3936-dc10-41d3-8036-90e73870f52e')\"\n",
              "            title=\"Convert this dataframe to an interactive table.\"\n",
              "            style=\"display:none;\">\n",
              "\n",
              "  <svg xmlns=\"http://www.w3.org/2000/svg\" height=\"24px\" viewBox=\"0 -960 960 960\">\n",
              "    <path d=\"M120-120v-720h720v720H120Zm60-500h600v-160H180v160Zm220 220h160v-160H400v160Zm0 220h160v-160H400v160ZM180-400h160v-160H180v160Zm440 0h160v-160H620v160ZM180-180h160v-160H180v160Zm440 0h160v-160H620v160Z\"/>\n",
              "  </svg>\n",
              "    </button>\n",
              "\n",
              "  <style>\n",
              "    .colab-df-container {\n",
              "      display:flex;\n",
              "      gap: 12px;\n",
              "    }\n",
              "\n",
              "    .colab-df-convert {\n",
              "      background-color: #E8F0FE;\n",
              "      border: none;\n",
              "      border-radius: 50%;\n",
              "      cursor: pointer;\n",
              "      display: none;\n",
              "      fill: #1967D2;\n",
              "      height: 32px;\n",
              "      padding: 0 0 0 0;\n",
              "      width: 32px;\n",
              "    }\n",
              "\n",
              "    .colab-df-convert:hover {\n",
              "      background-color: #E2EBFA;\n",
              "      box-shadow: 0px 1px 2px rgba(60, 64, 67, 0.3), 0px 1px 3px 1px rgba(60, 64, 67, 0.15);\n",
              "      fill: #174EA6;\n",
              "    }\n",
              "\n",
              "    .colab-df-buttons div {\n",
              "      margin-bottom: 4px;\n",
              "    }\n",
              "\n",
              "    [theme=dark] .colab-df-convert {\n",
              "      background-color: #3B4455;\n",
              "      fill: #D2E3FC;\n",
              "    }\n",
              "\n",
              "    [theme=dark] .colab-df-convert:hover {\n",
              "      background-color: #434B5C;\n",
              "      box-shadow: 0px 1px 3px 1px rgba(0, 0, 0, 0.15);\n",
              "      filter: drop-shadow(0px 1px 2px rgba(0, 0, 0, 0.3));\n",
              "      fill: #FFFFFF;\n",
              "    }\n",
              "  </style>\n",
              "\n",
              "    <script>\n",
              "      const buttonEl =\n",
              "        document.querySelector('#df-c25f3936-dc10-41d3-8036-90e73870f52e button.colab-df-convert');\n",
              "      buttonEl.style.display =\n",
              "        google.colab.kernel.accessAllowed ? 'block' : 'none';\n",
              "\n",
              "      async function convertToInteractive(key) {\n",
              "        const element = document.querySelector('#df-c25f3936-dc10-41d3-8036-90e73870f52e');\n",
              "        const dataTable =\n",
              "          await google.colab.kernel.invokeFunction('convertToInteractive',\n",
              "                                                    [key], {});\n",
              "        if (!dataTable) return;\n",
              "\n",
              "        const docLinkHtml = 'Like what you see? Visit the ' +\n",
              "          '<a target=\"_blank\" href=https://colab.research.google.com/notebooks/data_table.ipynb>data table notebook</a>'\n",
              "          + ' to learn more about interactive tables.';\n",
              "        element.innerHTML = '';\n",
              "        dataTable['output_type'] = 'display_data';\n",
              "        await google.colab.output.renderOutput(dataTable, element);\n",
              "        const docLink = document.createElement('div');\n",
              "        docLink.innerHTML = docLinkHtml;\n",
              "        element.appendChild(docLink);\n",
              "      }\n",
              "    </script>\n",
              "  </div>\n",
              "\n",
              "\n",
              "    <div id=\"df-5188b08a-bc35-4b2f-a5dd-4572be0b6cf2\">\n",
              "      <button class=\"colab-df-quickchart\" onclick=\"quickchart('df-5188b08a-bc35-4b2f-a5dd-4572be0b6cf2')\"\n",
              "                title=\"Suggest charts\"\n",
              "                style=\"display:none;\">\n",
              "\n",
              "<svg xmlns=\"http://www.w3.org/2000/svg\" height=\"24px\"viewBox=\"0 0 24 24\"\n",
              "     width=\"24px\">\n",
              "    <g>\n",
              "        <path d=\"M19 3H5c-1.1 0-2 .9-2 2v14c0 1.1.9 2 2 2h14c1.1 0 2-.9 2-2V5c0-1.1-.9-2-2-2zM9 17H7v-7h2v7zm4 0h-2V7h2v10zm4 0h-2v-4h2v4z\"/>\n",
              "    </g>\n",
              "</svg>\n",
              "      </button>\n",
              "\n",
              "<style>\n",
              "  .colab-df-quickchart {\n",
              "      --bg-color: #E8F0FE;\n",
              "      --fill-color: #1967D2;\n",
              "      --hover-bg-color: #E2EBFA;\n",
              "      --hover-fill-color: #174EA6;\n",
              "      --disabled-fill-color: #AAA;\n",
              "      --disabled-bg-color: #DDD;\n",
              "  }\n",
              "\n",
              "  [theme=dark] .colab-df-quickchart {\n",
              "      --bg-color: #3B4455;\n",
              "      --fill-color: #D2E3FC;\n",
              "      --hover-bg-color: #434B5C;\n",
              "      --hover-fill-color: #FFFFFF;\n",
              "      --disabled-bg-color: #3B4455;\n",
              "      --disabled-fill-color: #666;\n",
              "  }\n",
              "\n",
              "  .colab-df-quickchart {\n",
              "    background-color: var(--bg-color);\n",
              "    border: none;\n",
              "    border-radius: 50%;\n",
              "    cursor: pointer;\n",
              "    display: none;\n",
              "    fill: var(--fill-color);\n",
              "    height: 32px;\n",
              "    padding: 0;\n",
              "    width: 32px;\n",
              "  }\n",
              "\n",
              "  .colab-df-quickchart:hover {\n",
              "    background-color: var(--hover-bg-color);\n",
              "    box-shadow: 0 1px 2px rgba(60, 64, 67, 0.3), 0 1px 3px 1px rgba(60, 64, 67, 0.15);\n",
              "    fill: var(--button-hover-fill-color);\n",
              "  }\n",
              "\n",
              "  .colab-df-quickchart-complete:disabled,\n",
              "  .colab-df-quickchart-complete:disabled:hover {\n",
              "    background-color: var(--disabled-bg-color);\n",
              "    fill: var(--disabled-fill-color);\n",
              "    box-shadow: none;\n",
              "  }\n",
              "\n",
              "  .colab-df-spinner {\n",
              "    border: 2px solid var(--fill-color);\n",
              "    border-color: transparent;\n",
              "    border-bottom-color: var(--fill-color);\n",
              "    animation:\n",
              "      spin 1s steps(1) infinite;\n",
              "  }\n",
              "\n",
              "  @keyframes spin {\n",
              "    0% {\n",
              "      border-color: transparent;\n",
              "      border-bottom-color: var(--fill-color);\n",
              "      border-left-color: var(--fill-color);\n",
              "    }\n",
              "    20% {\n",
              "      border-color: transparent;\n",
              "      border-left-color: var(--fill-color);\n",
              "      border-top-color: var(--fill-color);\n",
              "    }\n",
              "    30% {\n",
              "      border-color: transparent;\n",
              "      border-left-color: var(--fill-color);\n",
              "      border-top-color: var(--fill-color);\n",
              "      border-right-color: var(--fill-color);\n",
              "    }\n",
              "    40% {\n",
              "      border-color: transparent;\n",
              "      border-right-color: var(--fill-color);\n",
              "      border-top-color: var(--fill-color);\n",
              "    }\n",
              "    60% {\n",
              "      border-color: transparent;\n",
              "      border-right-color: var(--fill-color);\n",
              "    }\n",
              "    80% {\n",
              "      border-color: transparent;\n",
              "      border-right-color: var(--fill-color);\n",
              "      border-bottom-color: var(--fill-color);\n",
              "    }\n",
              "    90% {\n",
              "      border-color: transparent;\n",
              "      border-bottom-color: var(--fill-color);\n",
              "    }\n",
              "  }\n",
              "</style>\n",
              "\n",
              "      <script>\n",
              "        async function quickchart(key) {\n",
              "          const quickchartButtonEl =\n",
              "            document.querySelector('#' + key + ' button');\n",
              "          quickchartButtonEl.disabled = true;  // To prevent multiple clicks.\n",
              "          quickchartButtonEl.classList.add('colab-df-spinner');\n",
              "          try {\n",
              "            const charts = await google.colab.kernel.invokeFunction(\n",
              "                'suggestCharts', [key], {});\n",
              "          } catch (error) {\n",
              "            console.error('Error during call to suggestCharts:', error);\n",
              "          }\n",
              "          quickchartButtonEl.classList.remove('colab-df-spinner');\n",
              "          quickchartButtonEl.classList.add('colab-df-quickchart-complete');\n",
              "        }\n",
              "        (() => {\n",
              "          let quickchartButtonEl =\n",
              "            document.querySelector('#df-5188b08a-bc35-4b2f-a5dd-4572be0b6cf2 button');\n",
              "          quickchartButtonEl.style.display =\n",
              "            google.colab.kernel.accessAllowed ? 'block' : 'none';\n",
              "        })();\n",
              "      </script>\n",
              "    </div>\n",
              "\n",
              "    </div>\n",
              "  </div>\n"
            ],
            "application/vnd.google.colaboratory.intrinsic+json": {
              "type": "dataframe",
              "variable_name": "df",
              "summary": "{\n  \"name\": \"df\",\n  \"rows\": 2484,\n  \"fields\": [\n    {\n      \"column\": \"ID\",\n      \"properties\": {\n        \"dtype\": \"number\",\n        \"std\": 21457345,\n        \"min\": 3547447,\n        \"max\": 99806115,\n        \"num_unique_values\": 2484,\n        \"samples\": [\n          99244405,\n          17562754,\n          30311725\n        ],\n        \"semantic_type\": \"\",\n        \"description\": \"\"\n      }\n    },\n    {\n      \"column\": \"Resume_str\",\n      \"properties\": {\n        \"dtype\": \"string\",\n        \"num_unique_values\": 2482,\n        \"samples\": [\n          \"         INFORMATION TECHNOLOGY SPECIALIST(DISCOUNTPCFIX)       Summary     I am obsessed with technology. It's power to change everything. Technology fuels my passion and commitment to helping organizations do what they set out to. When I engage, I bring fresh ideas that help your team galvanize performance. Refine your strategy. Spark new energy. \\nThe future\\u2014and how we get there\\u2014depends on those who build, connect, create and transform our world.  Accomplished with over 10 years of information technology support experience.  Highly articulate Capable experienced installing and updating hardware and software systems for users. Known for effectively optimizing systems to meet changing demands, enhancing collaboration and improving security.  Experienced Operations Analyst with first-rate skills in organizing, problem solving and project management. Ready to apply experience and abilities to take on new professional challenges.  Passionate and driven professional with remarkable analytical and problem solving skills.  Expert quality assurance tester offering five years of experience in detailed technical and system specifications.  Provides a collaborative style and has well-developed communication skills. Seeking a role in test reporting and defect resolution.  Well-rounded team player with dynamic written and verbal communication skills.  Hardworking and resourceful team player.  History of going above and beyond to achieve notable results.  Offering excellent blend of technical aptitude and creative ability. Inspires design teams with engaging management techniques and innovative thinking. Resourceful Technical Support Engineer polished in restoring system functionality by quickly assessing and resolving diverse hardware and software problems.       Skills          Issue escalation  Reporting and analysis  Quality control  Schematic understanding  Critical thinking  Data management  Network Administration  Experience in leadership  Improvement plan knowledge  Supervision  Hardware repair  Computer configurations  System upgrades  New program installations  Organizational leadership  Troubleshooting and Maintenance  Equipment repair  Power and hand tool use  Troubleshooting and repairs  Preventative maintenance  Telecommunications systems  Component repairs  Multitasking  Part inspections  Friendly, positive attitude  LAN and WAN configurations      Server and System Administration  End-User Training  Program installations  Software testing  Server improvements  Data backups  Project management  Security technologies  Network configuration  Time management  Active Directory knowledge  Cybersecurity analysis  System Administration  Microsoft Office  MS Office  Apple iOS Technician  Help desk assistance  Application software testing  Mechanical abilities  Information Systems Security Professional  Advanced knowledge of Windows OS  Advanced knowledge of Google Chrome OS  Soldering  Database management  Technical knowledge of server system softwares  Servers, storage systems, network equipment, PCs or notebooks of any brands.            Experience      Information Technology Specialist(Discountpcfix)   |   11/2011   -   Current    Company Name    -    City  ,   State       Assisted client with new computer and network equipment purchases.  Updated or installed software for customers to ensure computer efficiency.  Checked in computers and performed diagnostics for repair.  Backed up data each evening, helping alleviate lost information following malware incident.  Updated software versions with patches and new installations to close security loopholes and protect users.  Identified hardware issues caused by component failures using approved diagnostic tools.  Installed over motherboards, processors and graphics cards.  Configured computers to network drivers and connected to printers and other peripheral equipment.  Upgraded laptops/desktops, improving speed and performance.  Fixed All Apple(iphone,imac,ipad,laptop) Products Screen damage.  Fixed any brand,Windows OS,Mac OS,Chrome OS products liquid damage.  Observed system functioning and entered commands to test different areas of operations.  Explained technology-related details in easy-to-understand terms to individuals from all walks of life and in various job positions.  Responded to assistance requests from users and directed individuals through basic troubleshooting tasks.  Reviewed current hardware and software configurations and recommended modifications to increase system speed.  Serviced and repaired equipment according to manufacturer guidelines.  Installed new systems and components according to service orders and manufacturer instructions.  Assessed and identified issues and quickly resolved to restore functionality.  Built and repaired computers according to schedule.  Installed, configured, and setup PCs in all stores for optimal operation and reporting.  Evaluated interfaces between hardware and software, testing performance requirements.  Studied complex technical issues and determined proper resolution methods.  Assisted with post-implementation troubleshooting of new applications and application upgrades.  Determined and alleviated hardware, software and network issues.  Installed and supported hardware and software, including desktops, servers and printers.  Identified operational and performance issues and worked with managers to resolve concerns.  Completed various reports and analyzed each report to decide where improvements could be made.  Recommended process and systems improvements such as changes to operations.  Updated hardware and software upon availability and supervised network to eliminate bottlenecks immediately.  Handled network configurations after hours and on weekends to alleviate downtime and maintain smooth operations.  Assisted customers with various types of technical issues via email, live chat and telephone.  Delivered local and remote Tier 1 IT support for hardware and software to company personnel.  Disassembled computer systems to troubleshoot and resolve hardware issues.  Increased overall company performance through improved IT uptime and cost reductions.         Quality Control Inspector Contractor   |   04/2019   -   Current    Company Name    -    City  ,   State       Conferred with scientific, engineering and technical personnel to resolve design, research and testing problems.  Worked with engineers to facilitate research and development testing, correct mechanical failures and generate technical specifications prior to release.  Developed and implemented best practices for defect prevention and continuous improvement.  Used specialized tools to take precise measurements of various aspects of samples.  Consulted with engineers to resolve quality, production and efficiency problems.  Wrote detailed reports outlining performance, quality and defect rates.  Completed non-destructive tests and visual inspections on a continuous basis.  Inspected quality of finished products, making minor repairs to meet project expectations.  Documented nonconformities immediately and recommended techniques for prompt resolution.  Completed non-destructive tests and visual inspections continuously.  Reviewed drawings and blueprints to determine appropriate level of inspection required.  Adhered to all safety protocols to minimize equipment damage and avoid injuries.  Assessed materials, parts and products for conformance with quality control requirements and production specifications.         Network Analyst   |   06/2016   -   05/2018    Company Name    -    City  ,   State       Identified operational and performance issues and worked with managers to resolve concerns.  Supporting of the following hardware types: servers, storage systems, network equipment, PCs ipad and notebooks of any brands.  Analyzed operational performance to identify pain points and provided actionable solutions to management.  Educated personnel on company policies to foster improved customer retention and increased revenue.  Technical knowledge of standard server system software (Linux, Windows, VMWare)  Drove revenue and customer retention by visiting corporate and franchise centers serving clients to educate staff on company policies and customer styling applications.  Wrote reports outlining results to facilitate management decision making.  Executed and monitored standards for user interfaces, page design and graphics development.  Provided senior technical support to both in-house staff and user departments for all network applications.  Monitored project budget through the careful assessment of resource usage and task management to ensure that costs were kept low.  Supported customers with password resets and account customization.  Recorded complaints, product deficiencies, returned orders and other customer documentation in system.  Supported customers having data connectivity issues, assisting with troubleshooting steps and rebooting of hardware.  Maintained composure and patience in face of difficult customer situations, applying de-escalation techniques and positive customer support.  Performed site evaluations, customer surveys and team audits.  Promoted continuous improvement for IT governance processes.  Spearheaded server infrastructure development, quality control, staging and production operations.         Quality Control Manager   |   07/2013   -   08/2015    Company Name    -    City  ,   State       Stayed well-informed of all company and federal regulations, which bolstered compliance of all corporate processes.  Used creative and professional policy to find solutions to issues while diminishing conflicts.  Handled all scheduling procedures for the department and directed team members in setting and achieving goals.  Observed customer specifications by monitoring the quality control of finished products.         Education and Training      The Federal Polytechnic, Ado-Ekiti    -    City  ,  State      |    Associate of Science    Science Technology  ,   2003          Phoenix East Aviation    -    City  ,  State      |    F.A.A  Aircraft Dispatcher License    Aviation  ,   2014          University Of Colorado At Boulder    -    City        |    Certificate    Cybersecurity Policy For Aviation And Internet   ,   07/2020          GOOGLE I.T SUPPORT    -    City        |    Certificate      03/2021     Completed professional Course in:   IT Security: Defense against the digital dark arts  Operating System and You: Becoming a power user  The Bits and Bytes of Computer Networking  System Administration and IT Infrastructure Service  Technical Support Fundamentals     \",\n          \"         BUSINESS DEVELOPMENT DIRECTOR       Summary     I collaborate with multiple stakeholders to determine audience needs, quickly developing strategic plans that align with my clients business priorities and strategies.       Experience      Business Development Director   05/1997   to   Current     Company Name   City  ,   State      Producing measurable results for my clients by designing unique engagement initiatives for employees, sales channel partners and consumers groups. Sales of performance improvement products, most being intangible services to Fortune 500 clients. Success at discovering and growing my business with customers who have the potential to spend more than $1 million with me each year.   I have designed innovative solutions, customized to each customers various objectives and end result needs.  Managing my internal teams to develop, design and operate complex custom projects ranging in value at least $150,000 to millions.  Titles called on include the entire C suite, CEO, COO, CFO, CMO, President, EVP's of Marketing, Sales, Human Resources & Finance.  Define business issues to improve revenue and penetrating existing accounts and opening new.  Sold 17 new accounts while in current position, managed sales volume and profit margin with long sales cycle.  Managed and hired staff of 4 to work with my major global account travel & meetings business over 8 years.  Total book of business constantly over $2.5 million each year.  Nearly twice the entertainment activity of other BDD's with similar tenure.  Achieved over $6 million in sales twice, becoming a trusted partner to my clients, customers want me to Win!          Account Territory & District Sales Manager / National Account Sales   08/1989   to   04/1997     Company Name   City  ,   State       Responsible for growth of distributor sales volume, product mix and motivation of DSR sales forces.  Developed my own custom local training and marketing materials, which were later adopted by the Nestle corporate.  Distributor and chain accounts accounted for over $11 million in sales.  Increased my chain accounts by over 75% while with national accounts.  Created sales forecasts, developed budgets, strategic plans and managed entire regional office staff. Working with my team we grew business at Nestle largest US account by nearly double.  Surpassed sales, budget goals every year as manager and twice led company nationally in new product introductions.  District sales grew from $16 million to over $22 million as district manager. Hired five salespeople and 4 direct reports were promoted, managed up to eight account managers at a time.  Developed new reports, marketing and promotional strategies for the field. Designed account reviews process, management and field training programs for the entire company.  Sold small business owners and managed distributor sales accounts, using strategic planning, innovative programming and by cultivating strong personal relationships. Took area territory sales from $500,000 to $2.9 million, with a mature company in an industry with an average annual increase of only 3-5%.          Financial Operations Executive and Department Merchandising Manager   04/1988   to   08/1989     Company Name   City  ,   State     Financial Operations Executive for the South Bend store. Volunteered to be merchandise manager for the stores largest department. While in this role the department had the highest per foot sales volume of any department in the entire corporation during the 4th quarter of 1988.        Accomplishments      4 times President Achievement Guild Award winner, award for sales volume and profit.  3 times President Achievement Award winner, award for sales volume and profit.  4 times Achievement Guild winner, for leadership in 3 year running combined volume.  Top travel and meetings sales several times since with BIW.  National sales contest \\\"the 1993 Superbowl\\\".  Twice awarded \\\"The Over Achiever of the Year\\\" by my most profitable direct customer.  Reviewed consistently by management throughout career as \\\"Outstanding or Exceeding Expectations\\\".  College: elected to executive positions with both Finance Club and Resident Housing Association.        Skills     Sales, Business Development, Distributor Sales, Territory Sales, District Sales, Sales of Solutions, Sales Teams, Sales Accounts, National Accounts, Sales Management, Strategic Accounts, Sales Promotions, Travel & Meeting Sales, Technology Application Sales, Clients Management, Marketing, Budget, Budgets, Forecasts, Promotional, Travel & Meeting Operations, Strategic Planning, Training, Training Development, Financial Operations, Merchandising, Corporate Operations, Employee Engagement, Managing Existing Accounts, Forecasting, Human Resources, Finding New Accounts, Relationship Building and Strategic Direction.       Education      Bachelor of Business Administration  :   Finance, General Business   1988       Western Michigan University   City  ,   State  ,   US      Earned over 85% of all educational/living costs. Jobs worked while in college, industrial heavy construction, excelled at several sales roles including at direct sales of home goods. While in direct sales I won a national trip and was ranked in the top 10 in the country in sales.  Started two successful on campus businesses. Member of the varsity division I football team for 4 years.         Organizations     IMEX, Milford Memories Planning Board, Huron Valley Youth Baseball President/Treasurer/Director of Travel Baseball, Lakeland Milford Travel Secretary and Milford High School baseball instructor.    \",\n          \"           ENGINEERING MANAGER         Professional Summary    Experienced product development Engineer and manager able to collaborate with cross functional team as well as customers and sales to bring brand new offerings to new markets. Skilled at managing cross functional team for continuous improvements and meeting project deadlines. Offering 6 years of experience in the field.      Skills          Microsoft Office  Microsoft Project  Product development  Quality  Research  Six Sigma Green Belt  Solid Works  Visio  Prioritization  Personnel management  Critical thinking skills  Team management  Analyst, Visio  Agency  Consulting  Cost analysis  Critical thinking  Designing  Dialysis  Direction      Develop drug  Functional  IIa  ISO  Leadership  Market and development  Microsoft Office  Microsoft Project  Personnel management  Design process  Product development  Product management  Quality  Researching  Research  Sales  Six Sigma  Solid Works  Team management  Validation            Work History      Engineering Manager  ,     03/2018   to   Current       City  ,   State      Create and maintain Technical Files per MDR requirements as well as attaining 510k on legacy products.  Assess testing gaps of legacy products and design creep.  Experienced in working with multiple departments.  Experienced in training and leading engineers in order to investigate field complaints, Gap analysis and building Technical files/DHF.  Experienced in leading team of engineers to lead all aspects of design process, including regulatory needs per market and development per design control.  Tasked to create test plan and analysis of existing Class I, II and III products and Testing per latest applicable requirements.  Trained team in conducting project related cost analysis, test gap analysis and researching ISO/EN ISO/ASTM requirements.  Leading companywide EU MDR product transfer and testing on Infusion products, Dialysis products and standalone products.  Provided technical direction on MDR and 510k related projects and initiatives to other engineers and technicians.         Project Engineer II  ,     03/2017   to   03/2018     Company Name   \\u2013   City  ,   State      Working with product management, Clinical Analyst, sales, and regulatory to determine optimal design inputs for new products.  Completed design transfer and attained 510k on Class IIb device in under year.  Lead cross functional team including consulting agency in order to Develop drug device combination product and research optimal process using DOE in order for mass production.  Leading all aspects of design control from designing on solid works to process validations and V&V Testing.  Analyzing and resolving field failures through investigation and testing.  Experienced in working with international regulatory teams in providing information for foreign registration.  Responsible for gap analysis and test planning in order to create and meet deadline for projects.  Experienced with reviewing and approving validation activities as well as provide support to staff to achieve project milestones.  Experienced working with cross functional teams to complete projects and tasks.         Engineer I  ,     06/2013   to   03/2017     Company Name   \\u2013   City  ,   State      Worked to bring Drug Device Combination product to mass production.  Completed new Class IIa product and completed project in 10 months.  Completing CAPAs and resolving field failures by research and testing.  Developed new testing methods and designed tooling for new testing.  Experienced in using Injection Molding Machine to Create and Test Prototypes.  Found cheaper and more responsible vendor for MRI related testing.         Education      Bachelor of Science  :   Mechanical Engineering  ,   05/2013     Temple University   -   City  ,   State           Certifications\\nManagement Leadership Certification and Six Sigma Greenbelt certification              Work History      Engineering Manager  ,   03/2018   to   Current       City  ,   State      Create and maintain Technical Files per MDR requirements as well as attaining 510k on legacy products.  Assess testing gaps of legacy products and design creep.  Experienced in working with multiple departments.  Experienced in training and leading engineers in order to investigate field complaints, Gap analysis and building Technical files/DHF.  Experienced in leading team of engineers to lead all aspects of design process, including regulatory needs per market and development per design control.  Tasked to create test plan and analysis of existing Class I, II and III products and Testing per latest applicable requirements.  Trained team in conducting project related cost analysis, test gap analysis and researching ISO/EN ISO/ASTM requirements.  Leading companywide EU MDR product transfer and testing on Infusion products, Dialysis products and standalone products.  Provided technical direction on MDR and 510k related projects and initiatives to other engineers and technicians.         Project Engineer II  ,   03/2017   to   03/2018     Company Name   \\u2013   City  ,   State      Working with product management, Clinical Analyst, sales, and regulatory to determine optimal design inputs for new products.  Completed design transfer and attained 510k on Class IIb device in under year.  Lead cross functional team including consulting agency in order to Develop drug device combination product and research optimal process using DOE in order for mass production.  Leading all aspects of design control from designing on solid works to process validations and V&V Testing.  Analyzing and resolving field failures through investigation and testing.  Experienced in working with international regulatory teams in providing information for foreign registration.  Responsible for gap analysis and test planning in order to create and meet deadline for projects.  Experienced with reviewing and approving validation activities as well as provide support to staff to achieve project milestones.  Experienced working with cross functional teams to complete projects and tasks.         Engineer I  ,   06/2013   to   03/2017     Company Name   \\u2013   City  ,   State      Worked to bring Drug Device Combination product to mass production.  Completed new Class IIa product and completed project in 10 months.  Completing CAPAs and resolving field failures by research and testing.  Developed new testing methods and designed tooling for new testing.  Experienced in using Injection Molding Machine to Create and Test Prototypes.  Found cheaper and more responsible vendor for MRI related testing.         Skills     Microsoft Office  Microsoft Project  Product development  Quality  Research  Six Sigma Green Belt  Solid Works  Visio  Prioritization  Personnel management  Critical thinking skills  Team management,  Analyst, agency, consulting, cost analysis, Critical thinking, Designing, Dialysis, direction, Develop drug, functional, IIa, ISO, Leadership, market and development, Microsoft Office, Microsoft Project, Personnel management, design process, Product development, product management, Quality, researching, Research, sales, Six Sigma, Solid Works, Team management, validation, Visio    \"\n        ],\n        \"semantic_type\": \"\",\n        \"description\": \"\"\n      }\n    },\n    {\n      \"column\": \"Resume_html\",\n      \"properties\": {\n        \"dtype\": \"string\",\n        \"num_unique_values\": 2482,\n        \"samples\": [\n          \"<div class=\\\"RNA skn-hdr3 fontsize fontface vmargins hmargins pagesize dynamicbg\\\" id=\\\"document\\\"> <div class=\\\"section nameSec firstsection\\\" id=\\\"SECTION_NAME5550d5fc-bc70-476b-a324-a96a5f8e4c39\\\"> <div class=\\\"paragraph PARAGRAPH_NAME firstparagraph\\\" id=\\\"PARAGRAPH_5550d5fc-bc70-476b-a324-a96a5f8e4c39_1_ac85099c-62cd-4861-9279-8510832b3240\\\"> <div class=\\\"name\\\" itemprop=\\\"name\\\"> <span class=\\\"field\\\" id=\\\"5550d5fc-bc70-476b-a324-a96a5f8e4c39FNAM1\\\"> </span> <span> </span> <span class=\\\"field\\\" id=\\\"5550d5fc-bc70-476b-a324-a96a5f8e4c39LNAM1\\\"> INFORMATION TECHNOLOGY SPECIALIST(DISCOUNTPCFIX)</span> </div> </div> </div> <div class=\\\"section\\\" id=\\\"SECTION_SUMM8fa0a5f9-217d-41cc-b98a-09b71ea76797\\\"> <div class=\\\"heading\\\"> <div class=\\\"sectiontitle\\\" id=\\\"SECTNAME_SUMM8fa0a5f9-217d-41cc-b98a-09b71ea76797\\\"> Summary</div> </div> <div class=\\\"paragraph firstparagraph\\\" id=\\\"PARAGRAPH_8fa0a5f9-217d-41cc-b98a-09b71ea76797_1_b1625863-b3c3-4df6-a204-60ccb0054f3f\\\"> <div class=\\\"field singlecolumn\\\" id=\\\"8fa0a5f9-217d-41cc-b98a-09b71ea76797FRFM1\\\"> <p> I am obsessed with technology. It's power to change everything. Technology fuels my passion and commitment to helping organizations do what they set out to. When I engage, I bring fresh ideas that help your team galvanize performance. Refine your strategy. Spark new energy.<br/> \\nThe future\\u2014and how we get there\\u2014depends on those who build, connect, create and transform our world.</p> <p> Accomplished with over 10 years of information technology support experience.</p> <p> Highly articulate Capable experienced installing and updating hardware and software systems for users. Known for effectively optimizing systems to meet changing demands, enhancing collaboration and improving security.</p> <p> Experienced Operations Analyst with first-rate skills in organizing, problem solving and project management. Ready to apply experience and abilities to take on new professional challenges.</p> <p> Passionate and driven professional with remarkable analytical and problem solving skills.</p> <p> Expert quality assurance tester offering five years of experience in detailed technical and system specifications.</p> <p> Provides a collaborative style and has well-developed communication skills. Seeking a role in test reporting and defect resolution.</p> <p> Well-rounded team player with dynamic written and verbal communication skills.</p> <p> Hardworking and resourceful team player.</p> <p> History of going above and beyond to achieve notable results.</p> <p> Offering excellent blend of technical aptitude and creative ability. Inspires design teams with engaging management techniques and innovative thinking. Resourceful Technical Support Engineer polished in restoring system functionality by quickly assessing and resolving diverse hardware and software problems.</p> </div> </div> </div> <div class=\\\"section\\\" id=\\\"SECTION_HILT5097c9f6-be4d-4c96-87af-1703d29f3ed4\\\"> <div class=\\\"heading\\\"> <div class=\\\"sectiontitle\\\" id=\\\"SECTNAME_HILT5097c9f6-be4d-4c96-87af-1703d29f3ed4\\\"> Skills</div> </div> <div class=\\\"paragraph firstparagraph\\\" id=\\\"PARAGRAPH_5097c9f6-be4d-4c96-87af-1703d29f3ed4_1_9fc9ac29-6c45-ccc1-e402-f68d67a6ce51\\\"> <div class=\\\"singlecolumn maincolumn\\\"> <table class=\\\"twocol\\\"> <tbody> <tr> <td class=\\\"field twocol_1\\\" id=\\\"5097c9f6-be4d-4c96-87af-1703d29f3ed4SKC10\\\"> <ul> <li> Issue escalation</li> <li> Reporting and analysis</li> <li> Quality control</li> <li> Schematic understanding</li> <li> Critical thinking</li> <li> Data management</li> <li> Network Administration</li> <li> Experience in leadership</li> <li> Improvement plan knowledge</li> <li> Supervision</li> <li> Hardware repair</li> <li> Computer configurations</li> <li> System upgrades</li> <li> New program installations</li> <li> Organizational leadership</li> <li> Troubleshooting and Maintenance</li> <li> Equipment repair</li> <li> Power and hand tool use</li> <li> Troubleshooting and repairs</li> <li> Preventative maintenance</li> <li> Telecommunications systems</li> <li> Component repairs</li> <li> Multitasking</li> <li> Part inspections</li> <li> Friendly, positive attitude</li> <li> LAN and WAN configurations</li> </ul> </td> <td class=\\\"field twocol_2\\\" id=\\\"5097c9f6-be4d-4c96-87af-1703d29f3ed4SKC20\\\"> <ul> <li> Server and System Administration</li> <li> End-User Training</li> <li> Program installations</li> <li> Software testing</li> <li> Server improvements</li> <li> Data backups</li> <li> Project management</li> <li> Security technologies</li> <li> Network configuration</li> <li> Time management</li> <li> Active Directory knowledge</li> <li> Cybersecurity analysis</li> <li> System Administration</li> <li> Microsoft Office</li> <li> MS Office</li> <li> Apple iOS Technician</li> <li> Help desk assistance</li> <li> Application software testing</li> <li> Mechanical abilities</li> <li> Information Systems Security Professional</li> <li> Advanced knowledge of Windows OS</li> <li> Advanced knowledge of Google Chrome OS</li> <li> Soldering</li> <li> Database management</li> <li> Technical knowledge of server system softwares</li> <li> Servers, storage systems, network equipment, PCs or notebooks of any brands.</li> </ul> </td> </tr> </tbody> </table> </div> </div> </div> <div class=\\\"section\\\" id=\\\"SECTION_EXPRc16bd516-88f5-4d05-a0b1-689c93d7a610\\\"> <div class=\\\"heading\\\"> <div class=\\\"sectiontitle\\\" id=\\\"SECTNAME_EXPRc16bd516-88f5-4d05-a0b1-689c93d7a610\\\"> Experience</div> </div> <div class=\\\"paragraph firstparagraph\\\" id=\\\"PARAGRAPH_c16bd516-88f5-4d05-a0b1-689c93d7a610_1_c1bf6f2f-bff5-4a86-ae5b-879a7f9c292a\\\" itemscope=\\\"\\\" itemtype=\\\"https://schema.org/Organization\\\"> <div class=\\\"singlecolumn\\\"> <span class=\\\"paddedline\\\"> <span class=\\\"jobtitle\\\" id=\\\"c16bd516-88f5-4d05-a0b1-689c93d7a610JTIT1\\\"> Information Technology Specialist(Discountpcfix)</span> <span>  | </span> <span class=\\\"jobdates\\\" format=\\\"%m/%Y\\\" id=\\\"c16bd516-88f5-4d05-a0b1-689c93d7a610JSTD1\\\"> 11/2011</span> <span>  - </span> <span class=\\\"jobdates\\\" format=\\\"%m/%Y\\\" id=\\\"c16bd516-88f5-4d05-a0b1-689c93d7a610EDDT1\\\"> Current</span> </span> <span class=\\\"paddedline txt-bold\\\" itemscope=\\\"\\\" itemtype=\\\"https://schema.org/postalAddress\\\"> <span class=\\\"companyname\\\" id=\\\"c16bd516-88f5-4d05-a0b1-689c93d7a610COMP1\\\" itemprop=\\\"name\\\"> Company Name</span> <span> <span>  - </span> </span> <span class=\\\"joblocation jobcity\\\" id=\\\"c16bd516-88f5-4d05-a0b1-689c93d7a610JCIT1\\\" itemprop=\\\"addressLocality\\\"> City</span> <span> , </span> <span class=\\\"joblocation jobstate\\\" id=\\\"c16bd516-88f5-4d05-a0b1-689c93d7a610JSTA1\\\" itemprop=\\\"addressRegion\\\"> State</span> <span class=\\\"joblocation jobcountry\\\" id=\\\"c16bd516-88f5-4d05-a0b1-689c93d7a610JCNT1\\\"> </span> </span> <span class=\\\"jobline\\\" id=\\\"c16bd516-88f5-4d05-a0b1-689c93d7a610JDES1\\\" itemprop=\\\"description\\\"> <ul> <li> Assisted client with new computer and network equipment purchases.</li> <li> Updated or installed software for customers to ensure computer efficiency.</li> <li> Checked in computers and performed diagnostics for repair.</li> <li> Backed up data each evening, helping alleviate lost information following malware incident.</li> <li> Updated software versions with patches and new installations to close security loopholes and protect users.</li> <li> Identified hardware issues caused by component failures using approved diagnostic tools.</li> <li> Installed over motherboards, processors and graphics cards.</li> <li> Configured computers to network drivers and connected to printers and other peripheral equipment.</li> <li> Upgraded laptops/desktops, improving speed and performance.</li> <li> Fixed All Apple(iphone,imac,ipad,laptop) Products Screen damage.</li> <li> Fixed any brand,Windows OS,Mac OS,Chrome OS products liquid damage.</li> <li> Observed system functioning and entered commands to test different areas of operations.</li> <li> Explained technology-related details in easy-to-understand terms to individuals from all walks of life and in various job positions.</li> <li> Responded to assistance requests from users and directed individuals through basic troubleshooting tasks.</li> <li> Reviewed current hardware and software configurations and recommended modifications to increase system speed.</li> <li> Serviced and repaired equipment according to manufacturer guidelines.</li> <li> Installed new systems and components according to service orders and manufacturer instructions.</li> <li> Assessed and identified issues and quickly resolved to restore functionality.</li> <li> Built and repaired computers according to schedule.</li> <li> Installed, configured, and setup PCs in all stores for optimal operation and reporting.</li> <li> Evaluated interfaces between hardware and software, testing performance requirements.</li> <li> Studied complex technical issues and determined proper resolution methods.</li> <li> Assisted with post-implementation troubleshooting of new applications and application upgrades.</li> <li> Determined and alleviated hardware, software and network issues.</li> <li> Installed and supported hardware and software, including desktops, servers and printers.</li> <li> Identified operational and performance issues and worked with managers to resolve concerns.</li> <li> Completed various reports and analyzed each report to decide where improvements could be made.</li> <li> Recommended process and systems improvements such as changes to operations.</li> <li> Updated hardware and software upon availability and supervised network to eliminate bottlenecks immediately.</li> <li> Handled network configurations after hours and on weekends to alleviate downtime and maintain smooth operations.</li> <li> Assisted customers with various types of technical issues via email, live chat and telephone.</li> <li> Delivered local and remote Tier 1 IT support for hardware and software to company personnel.</li> <li> Disassembled computer systems to troubleshoot and resolve hardware issues.</li> <li> Increased overall company performance through improved IT uptime and cost reductions.</li> </ul> </span> </div> </div> <div class=\\\"paragraph\\\" id=\\\"PARAGRAPH_c16bd516-88f5-4d05-a0b1-689c93d7a610_2_50ce6831-7e0f-447d-a3fc-61036d2a57d9\\\" itemscope=\\\"\\\" itemtype=\\\"https://schema.org/Organization\\\"> <div class=\\\"singlecolumn\\\"> <span class=\\\"paddedline\\\"> <span class=\\\"jobtitle\\\" id=\\\"c16bd516-88f5-4d05-a0b1-689c93d7a610JTIT2\\\"> Quality Control Inspector Contractor</span> <span>  | </span> <span class=\\\"jobdates\\\" format=\\\"%m/%Y\\\" id=\\\"c16bd516-88f5-4d05-a0b1-689c93d7a610JSTD2\\\"> 04/2019</span> <span>  - </span> <span class=\\\"jobdates\\\" format=\\\"%m/%Y\\\" id=\\\"c16bd516-88f5-4d05-a0b1-689c93d7a610EDDT2\\\"> Current</span> </span> <span class=\\\"paddedline txt-bold\\\" itemscope=\\\"\\\" itemtype=\\\"https://schema.org/postalAddress\\\"> <span class=\\\"companyname\\\" id=\\\"c16bd516-88f5-4d05-a0b1-689c93d7a610COMP2\\\" itemprop=\\\"name\\\"> Company Name</span> <span> <span>  - </span> </span> <span class=\\\"joblocation jobcity\\\" id=\\\"c16bd516-88f5-4d05-a0b1-689c93d7a610JCIT2\\\" itemprop=\\\"addressLocality\\\"> City</span> <span> , </span> <span class=\\\"joblocation jobstate\\\" id=\\\"c16bd516-88f5-4d05-a0b1-689c93d7a610JSTA2\\\" itemprop=\\\"addressRegion\\\"> State</span> <span class=\\\"joblocation jobcountry\\\" id=\\\"c16bd516-88f5-4d05-a0b1-689c93d7a610JCNT2\\\"> </span> </span> <span class=\\\"jobline\\\" id=\\\"c16bd516-88f5-4d05-a0b1-689c93d7a610JDES2\\\" itemprop=\\\"description\\\"> <ul> <li> Conferred with scientific, engineering and technical personnel to resolve design, research and testing problems.</li> <li> Worked with engineers to facilitate research and development testing, correct mechanical failures and generate technical specifications prior to release.</li> <li> Developed and implemented best practices for defect prevention and continuous improvement.</li> <li> Used specialized tools to take precise measurements of various aspects of samples.</li> <li> Consulted with engineers to resolve quality, production and efficiency problems.</li> <li> Wrote detailed reports outlining performance, quality and defect rates.</li> <li> Completed non-destructive tests and visual inspections on a continuous basis.</li> <li> Inspected quality of finished products, making minor repairs to meet project expectations.</li> <li> Documented nonconformities immediately and recommended techniques for prompt resolution.</li> <li> Completed non-destructive tests and visual inspections continuously.</li> <li> Reviewed drawings and blueprints to determine appropriate level of inspection required.</li> <li> Adhered to all safety protocols to minimize equipment damage and avoid injuries.</li> <li> Assessed materials, parts and products for conformance with quality control requirements and production specifications.</li> </ul> </span> </div> </div> <div class=\\\"paragraph\\\" id=\\\"PARAGRAPH_c16bd516-88f5-4d05-a0b1-689c93d7a610_3_f9296837-feb0-4c87-abc1-66dabd9087ac\\\" itemscope=\\\"\\\" itemtype=\\\"https://schema.org/Organization\\\"> <div class=\\\"singlecolumn\\\"> <span class=\\\"paddedline\\\"> <span class=\\\"jobtitle\\\" id=\\\"c16bd516-88f5-4d05-a0b1-689c93d7a610JTIT3\\\"> Network Analyst</span> <span>  | </span> <span class=\\\"jobdates\\\" format=\\\"%m/%Y\\\" id=\\\"c16bd516-88f5-4d05-a0b1-689c93d7a610JSTD3\\\"> 06/2016</span> <span>  - </span> <span class=\\\"jobdates\\\" format=\\\"%m/%Y\\\" id=\\\"c16bd516-88f5-4d05-a0b1-689c93d7a610EDDT3\\\"> 05/2018</span> </span> <span class=\\\"paddedline txt-bold\\\" itemscope=\\\"\\\" itemtype=\\\"https://schema.org/postalAddress\\\"> <span class=\\\"companyname\\\" id=\\\"c16bd516-88f5-4d05-a0b1-689c93d7a610COMP3\\\" itemprop=\\\"name\\\"> Company Name</span> <span> <span>  - </span> </span> <span class=\\\"joblocation jobcity\\\" id=\\\"c16bd516-88f5-4d05-a0b1-689c93d7a610JCIT3\\\" itemprop=\\\"addressLocality\\\"> City</span> <span> , </span> <span class=\\\"joblocation jobstate\\\" id=\\\"c16bd516-88f5-4d05-a0b1-689c93d7a610JSTA3\\\" itemprop=\\\"addressRegion\\\"> State</span> <span class=\\\"joblocation jobcountry\\\" id=\\\"c16bd516-88f5-4d05-a0b1-689c93d7a610JCNT3\\\"> </span> </span> <span class=\\\"jobline\\\" id=\\\"c16bd516-88f5-4d05-a0b1-689c93d7a610JDES3\\\" itemprop=\\\"description\\\"> <ul> <li> Identified operational and performance issues and worked with managers to resolve concerns.</li> <li> Supporting of the following hardware types: servers, storage systems, network equipment, PCs ipad and notebooks of any brands.</li> <li> Analyzed operational performance to identify pain points and provided actionable solutions to management.</li> <li> Educated personnel on company policies to foster improved customer retention and increased revenue.</li> <li> Technical knowledge of standard server system software (Linux, Windows, VMWare)</li> <li> Drove revenue and customer retention by visiting corporate and franchise centers serving clients to educate staff on company policies and customer styling applications.</li> <li> Wrote reports outlining results to facilitate management decision making.</li> <li> Executed and monitored standards for user interfaces, page design and graphics development.</li> <li> Provided senior technical support to both in-house staff and user departments for all network applications.</li> <li> Monitored project budget through the careful assessment of resource usage and task management to ensure that costs were kept low.</li> <li> Supported customers with password resets and account customization.</li> <li> Recorded complaints, product deficiencies, returned orders and other customer documentation in system.</li> <li> Supported customers having data connectivity issues, assisting with troubleshooting steps and rebooting of hardware.</li> <li> Maintained composure and patience in face of difficult customer situations, applying de-escalation techniques and positive customer support.</li> <li> Performed site evaluations, customer surveys and team audits.</li> <li> Promoted continuous improvement for IT governance processes.</li> <li> Spearheaded server infrastructure development, quality control, staging and production operations.</li> </ul> </span> </div> </div> <div class=\\\"paragraph\\\" id=\\\"PARAGRAPH_c16bd516-88f5-4d05-a0b1-689c93d7a610_4_8635d1c3-f58e-4d33-a87b-ad847a7c7337\\\" itemscope=\\\"\\\" itemtype=\\\"https://schema.org/Organization\\\"> <div class=\\\"singlecolumn\\\"> <span class=\\\"paddedline\\\"> <span class=\\\"jobtitle\\\" id=\\\"c16bd516-88f5-4d05-a0b1-689c93d7a610JTIT4\\\"> Quality Control Manager</span> <span>  | </span> <span class=\\\"jobdates\\\" format=\\\"%m/%Y\\\" id=\\\"c16bd516-88f5-4d05-a0b1-689c93d7a610JSTD4\\\"> 07/2013</span> <span>  - </span> <span class=\\\"jobdates\\\" format=\\\"%m/%Y\\\" id=\\\"c16bd516-88f5-4d05-a0b1-689c93d7a610EDDT4\\\"> 08/2015</span> </span> <span class=\\\"paddedline txt-bold\\\" itemscope=\\\"\\\" itemtype=\\\"https://schema.org/postalAddress\\\"> <span class=\\\"companyname\\\" id=\\\"c16bd516-88f5-4d05-a0b1-689c93d7a610COMP4\\\" itemprop=\\\"name\\\"> Company Name</span> <span> <span>  - </span> </span> <span class=\\\"joblocation jobcity\\\" id=\\\"c16bd516-88f5-4d05-a0b1-689c93d7a610JCIT4\\\" itemprop=\\\"addressLocality\\\"> City</span> <span> , </span> <span class=\\\"joblocation jobstate\\\" id=\\\"c16bd516-88f5-4d05-a0b1-689c93d7a610JSTA4\\\" itemprop=\\\"addressRegion\\\"> State</span> <span class=\\\"joblocation jobcountry\\\" id=\\\"c16bd516-88f5-4d05-a0b1-689c93d7a610JCNT4\\\"> </span> </span> <span class=\\\"jobline\\\" id=\\\"c16bd516-88f5-4d05-a0b1-689c93d7a610JDES4\\\" itemprop=\\\"description\\\"> <ul> <li> Stayed well-informed of all company and federal regulations, which bolstered compliance of all corporate processes.</li> <li> Used creative and professional policy to find solutions to issues while diminishing conflicts.</li> <li> Handled all scheduling procedures for the department and directed team members in setting and achieving goals.</li> <li> Observed customer specifications by monitoring the quality control of finished products.</li> </ul> </span> </div> </div> </div> <div class=\\\"section\\\" id=\\\"SECTION_EDUC95e45d01-3d53-473f-b805-14cee808ebae\\\"> <div class=\\\"heading\\\"> <div class=\\\"sectiontitle\\\" id=\\\"SECTNAME_EDUC95e45d01-3d53-473f-b805-14cee808ebae\\\"> Education and Training</div> </div> <div class=\\\"paragraph firstparagraph\\\" id=\\\"PARAGRAPH_95e45d01-3d53-473f-b805-14cee808ebae_1_35f5f03a-98c1-408c-8fe8-23fc8e31363b\\\" itemscope=\\\"\\\" itemtype=\\\"https://schema.org/EducationalOrganization\\\"> <div class=\\\"singlecolumn\\\"> <span class=\\\"paddedline txt-bold\\\" itemprop=\\\"description\\\"> <span class=\\\"companyname companyname_educ\\\" id=\\\"95e45d01-3d53-473f-b805-14cee808ebaeSCHO1\\\" itemprop=\\\"name\\\"> The Federal Polytechnic, Ado-Ekiti</span> <span> <span>  - </span> </span> <span class=\\\"joblocation jobcity\\\" id=\\\"95e45d01-3d53-473f-b805-14cee808ebaeSCIT1\\\"> City</span> <span> ,</span> <span class=\\\"joblocation jobstate\\\" id=\\\"95e45d01-3d53-473f-b805-14cee808ebaeSSTA1\\\"> State</span> <span class=\\\"joblocation jobcountry\\\" id=\\\"95e45d01-3d53-473f-b805-14cee808ebaeSCNT1\\\"> </span> <span> <span>  | </span> </span> <span class=\\\"degree\\\" id=\\\"95e45d01-3d53-473f-b805-14cee808ebaeDGRE1\\\" itemprop=\\\"name\\\"> Associate of Science</span> </span> <span class=\\\"paddedline\\\"> <span class=\\\"programline\\\" id=\\\"95e45d01-3d53-473f-b805-14cee808ebaeSTUY1\\\"> Science Technology</span> <span> , </span> <span format=\\\"%m/%Y\\\" id=\\\"95e45d01-3d53-473f-b805-14cee808ebaeGRYR1\\\"> 2003</span> </span> <span class=\\\"field\\\" id=\\\"95e45d01-3d53-473f-b805-14cee808ebaeFRFM1\\\"> </span> </div> </div> <div class=\\\"paragraph\\\" id=\\\"PARAGRAPH_95e45d01-3d53-473f-b805-14cee808ebae_2_a2729674-384f-4d1c-958a-35b2563e76c4\\\" itemscope=\\\"\\\" itemtype=\\\"https://schema.org/EducationalOrganization\\\"> <div class=\\\"singlecolumn\\\"> <span class=\\\"paddedline txt-bold\\\" itemprop=\\\"description\\\"> <span class=\\\"companyname companyname_educ\\\" id=\\\"95e45d01-3d53-473f-b805-14cee808ebaeSCHO2\\\" itemprop=\\\"name\\\"> Phoenix East Aviation</span> <span> <span>  - </span> </span> <span class=\\\"joblocation jobcity\\\" id=\\\"95e45d01-3d53-473f-b805-14cee808ebaeSCIT2\\\"> City</span> <span> ,</span> <span class=\\\"joblocation jobstate\\\" id=\\\"95e45d01-3d53-473f-b805-14cee808ebaeSSTA2\\\"> State</span> <span class=\\\"joblocation jobcountry\\\" id=\\\"95e45d01-3d53-473f-b805-14cee808ebaeSCNT2\\\"> </span> <span> <span>  | </span> </span> <span class=\\\"degree\\\" id=\\\"95e45d01-3d53-473f-b805-14cee808ebaeDGRE2\\\" itemprop=\\\"name\\\"> F.A.A  Aircraft Dispatcher License</span> </span> <span class=\\\"paddedline\\\"> <span class=\\\"programline\\\" id=\\\"95e45d01-3d53-473f-b805-14cee808ebaeSTUY2\\\"> Aviation</span> <span> , </span> <span format=\\\"%m/%Y\\\" id=\\\"95e45d01-3d53-473f-b805-14cee808ebaeGRYR2\\\"> 2014</span> </span> <span class=\\\"field\\\" id=\\\"95e45d01-3d53-473f-b805-14cee808ebaeFRFM2\\\"> </span> </div> </div> <div class=\\\"paragraph\\\" id=\\\"PARAGRAPH_95e45d01-3d53-473f-b805-14cee808ebae_3_aadb2d22-49ea-47b0-8fe0-86d66a1003c0\\\" itemscope=\\\"\\\" itemtype=\\\"https://schema.org/EducationalOrganization\\\"> <div class=\\\"singlecolumn\\\"> <span class=\\\"paddedline txt-bold\\\" itemprop=\\\"description\\\"> <span class=\\\"companyname companyname_educ\\\" id=\\\"95e45d01-3d53-473f-b805-14cee808ebaeSCHO3\\\" itemprop=\\\"name\\\"> University Of Colorado At Boulder</span> <span> <span>  - </span> </span> <span class=\\\"joblocation jobcity\\\" id=\\\"95e45d01-3d53-473f-b805-14cee808ebaeSCIT3\\\"> City</span> <span class=\\\"joblocation jobstate\\\" id=\\\"95e45d01-3d53-473f-b805-14cee808ebaeSSTA3\\\"> </span> <span class=\\\"joblocation jobcountry\\\" id=\\\"95e45d01-3d53-473f-b805-14cee808ebaeSCNT3\\\"> </span> <span> <span>  | </span> </span> <span class=\\\"degree\\\" id=\\\"95e45d01-3d53-473f-b805-14cee808ebaeDGRE3\\\" itemprop=\\\"name\\\"> Certificate</span> </span> <span class=\\\"paddedline\\\"> <span class=\\\"programline\\\" id=\\\"95e45d01-3d53-473f-b805-14cee808ebaeSTUY3\\\"> Cybersecurity Policy For Aviation And Internet </span> <span> , </span> <span format=\\\"%m/%Y\\\" id=\\\"95e45d01-3d53-473f-b805-14cee808ebaeGRYR3\\\"> 07/2020</span> </span> <span class=\\\"field\\\" id=\\\"95e45d01-3d53-473f-b805-14cee808ebaeFRFM3\\\"> </span> </div> </div> <div class=\\\"paragraph\\\" id=\\\"PARAGRAPH_95e45d01-3d53-473f-b805-14cee808ebae_4_928da07f-2964-852f-d35b-2700b04793b3\\\" itemscope=\\\"\\\" itemtype=\\\"https://schema.org/EducationalOrganization\\\"> <div class=\\\"singlecolumn\\\"> <span class=\\\"paddedline txt-bold\\\" itemprop=\\\"description\\\"> <span class=\\\"companyname companyname_educ\\\" id=\\\"95e45d01-3d53-473f-b805-14cee808ebaeSCHO4\\\" itemprop=\\\"name\\\"> GOOGLE I.T SUPPORT</span> <span> <span>  - </span> </span> <span class=\\\"joblocation jobcity\\\" id=\\\"95e45d01-3d53-473f-b805-14cee808ebaeSCIT4\\\"> City</span> <span class=\\\"joblocation jobstate\\\" id=\\\"95e45d01-3d53-473f-b805-14cee808ebaeSSTA4\\\"> </span> <span class=\\\"joblocation jobcountry\\\" id=\\\"95e45d01-3d53-473f-b805-14cee808ebaeSCNT4\\\"> </span> <span> <span>  | </span> </span> <span class=\\\"degree\\\" id=\\\"95e45d01-3d53-473f-b805-14cee808ebaeDGRE4\\\" itemprop=\\\"name\\\"> Certificate</span> </span> <span class=\\\"paddedline\\\"> <span class=\\\"programline\\\" id=\\\"95e45d01-3d53-473f-b805-14cee808ebaeSTUY4\\\"> </span> <span format=\\\"%m/%Y\\\" id=\\\"95e45d01-3d53-473f-b805-14cee808ebaeGRYR4\\\"> 03/2021</span> </span> <span class=\\\"field\\\" id=\\\"95e45d01-3d53-473f-b805-14cee808ebaeFRFM4\\\"> <p> <strong> Completed professional Course in:</strong> </p> <p> IT Security: Defense against the digital dark arts</p> <p> Operating System and You: Becoming a power user</p> <p> The Bits and Bytes of Computer Networking</p> <p> System Administration and IT Infrastructure Service</p> <p> Technical Support Fundamentals</p> </span> </div> </div> </div> </div>\",\n          \"<div class=\\\"fontsize fontface vmargins hmargins linespacing pagesize\\\" id=\\\"document\\\"> <div class=\\\"section firstsection\\\" id=\\\"SECTION_NAME588215279\\\" style=\\\"\\n      padding-top:0px;\\n    \\\"> <div class=\\\"paragraph PARAGRAPH_NAME firstparagraph\\\" id=\\\"PARAGRAPH_588215279_1_382804811\\\" style=\\\"\\n      padding-top:0px;\\n    \\\"> <div class=\\\"name\\\" itemprop=\\\"name\\\"> <span class=\\\"field\\\" id=\\\"588215279FNAM1\\\"> </span> <span> </span> <span class=\\\"field lName\\\" id=\\\"588215279LNAM1\\\"> BUSINESS DEVELOPMENT DIRECTOR</span> </div> </div> </div> <div class=\\\"section\\\" id=\\\"SECTION_SUMM588215281\\\" style=\\\"\\n      padding-top:0px;\\n    \\\"> <div class=\\\"heading\\\"> <div class=\\\"sectiontitle\\\" id=\\\"SECTNAME_SUMM588215281\\\"> Summary</div> </div> <div class=\\\"paragraph firstparagraph\\\" id=\\\"PARAGRAPH_588215281_1_382804813\\\" style=\\\"\\n      padding-top:0px;\\n    \\\"> <div class=\\\"field singlecolumn\\\" id=\\\"588215281FRFM1\\\"> <p align=\\\"LEFT\\\"> I collaborate with multiple stakeholders to determine audience needs, quickly developing strategic plans that align with my clients business priorities and strategies.</p> </div> </div> </div> <div class=\\\"section\\\" id=\\\"SECTION_EXPR588215283\\\" style=\\\"\\n      padding-top:0px;\\n    \\\"> <div class=\\\"heading\\\"> <div class=\\\"sectiontitle\\\" id=\\\"SECTNAME_EXPR588215283\\\"> Experience</div> </div> <div class=\\\"paragraph firstparagraph\\\" id=\\\"PARAGRAPH_588215283_1_382804816\\\" itemscope=\\\"\\\" itemtype=\\\"https://schema.org/Organization\\\" style=\\\"\\n      padding-top:0px;\\n    \\\"> <div class=\\\"singlecolumn\\\"> <span class=\\\"paddedline\\\"> <span class=\\\"jobtitle\\\" id=\\\"588215283JTIT1\\\"> Business Development Director</span> <span class=\\\"datesWrapper\\\"> <span class=\\\"jobdates\\\" format=\\\"%m/%Y\\\" id=\\\"588215283JSTD1\\\"> 05/1997</span> <span class=\\\"jobdates\\\">  to </span> <span class=\\\"jobdates\\\" format=\\\"%m/%Y\\\" id=\\\"588215283EDDT1\\\"> Current</span> </span> </span> <span class=\\\"paddedline\\\" itemscope=\\\"\\\" itemtype=\\\"https://schema.org/postalAddress\\\"> <span class=\\\"companyname\\\" id=\\\"588215283COMP1\\\" itemprop=\\\"name\\\"> Company Name</span> <span class=\\\"datesWrapper\\\"> <span class=\\\"joblocation jobcity\\\" id=\\\"588215283JCIT1\\\" itemprop=\\\"addressLocality\\\"> City</span> <span class=\\\"joblocation\\\"> , </span> <span class=\\\"joblocation jobstate\\\" id=\\\"588215283JSTA1\\\" itemprop=\\\"addressRegion\\\"> State</span> </span> </span> <span class=\\\"paddedline\\\"> <span class=\\\"jobline\\\" id=\\\"588215283JDES1\\\" itemprop=\\\"description\\\"> <p align=\\\"LEFT\\\"> Producing measurable results for my clients by designing unique engagement initiatives for employees, sales channel partners and consumers groups. Sales of performance improvement products, most being intangible services to Fortune 500 clients. Success at discovering and growing my business with customers who have the potential to spend more than $1 million with me each year.</p> <ul> <li> I have designed innovative solutions, customized to each customers various objectives and end result needs.</li> <li> Managing my internal teams to develop, design and operate complex custom projects ranging in value at least $150,000 to millions.</li> <li> Titles called on include the entire C suite, CEO, COO, CFO, CMO, President, EVP's of Marketing, Sales, Human Resources &amp; Finance.</li> <li> Define business issues to improve revenue and penetrating existing accounts and opening new.</li> <li> Sold 17 new accounts while in current position, managed sales volume and profit margin with long sales cycle.</li> <li> Managed and hired staff of 4 to work with my major global account travel &amp; meetings business over 8 years.</li> <li> Total book of business constantly over $2.5 million each year.</li> <li> Nearly twice the entertainment activity of other BDD's with similar tenure.</li> <li> Achieved over $6 million in sales twice, becoming a trusted partner to my clients, customers want me to Win!</li> </ul> </span> </span> </div> </div> <div class=\\\"paragraph\\\" id=\\\"PARAGRAPH_588215283_2_382804817\\\" itemscope=\\\"\\\" itemtype=\\\"https://schema.org/Organization\\\" style=\\\"\\n      padding-top:0px;\\n    \\\"> <div class=\\\"singlecolumn\\\"> <span class=\\\"paddedline\\\"> <span class=\\\"jobtitle\\\" id=\\\"588215283JTIT2\\\"> Account Territory &amp; District Sales Manager / National Account Sales</span> <span class=\\\"datesWrapper\\\"> <span class=\\\"jobdates\\\" format=\\\"%m/%Y\\\" id=\\\"588215283JSTD2\\\"> 08/1989</span> <span class=\\\"jobdates\\\">  to </span> <span class=\\\"jobdates\\\" format=\\\"%m/%Y\\\" id=\\\"588215283EDDT2\\\"> 04/1997</span> </span> </span> <span class=\\\"paddedline\\\" itemscope=\\\"\\\" itemtype=\\\"https://schema.org/postalAddress\\\"> <span class=\\\"companyname\\\" id=\\\"588215283COMP2\\\" itemprop=\\\"name\\\"> Company Name</span> <span class=\\\"datesWrapper\\\"> <span class=\\\"joblocation jobcity\\\" id=\\\"588215283JCIT2\\\" itemprop=\\\"addressLocality\\\"> City</span> <span class=\\\"joblocation\\\"> , </span> <span class=\\\"joblocation jobstate\\\" id=\\\"588215283JSTA2\\\" itemprop=\\\"addressRegion\\\"> State</span> </span> </span> <span class=\\\"paddedline\\\"> <span class=\\\"jobline\\\" id=\\\"588215283JDES2\\\" itemprop=\\\"description\\\"> <ul> <li> Responsible for growth of distributor sales volume, product mix and motivation of DSR sales forces.</li> <li> Developed my own custom local training and marketing materials, which were later adopted by the Nestle corporate.</li> <li> Distributor and chain accounts accounted for over $11 million in sales.</li> <li> Increased my chain accounts by over 75% while with national accounts.</li> <li> Created sales forecasts, developed budgets, strategic plans and managed entire regional office staff. Working with my team we grew business at Nestle largest US account by nearly double.</li> <li> Surpassed sales, budget goals every year as manager and twice led company nationally in new product introductions.</li> <li> District sales grew from $16 million to over $22 million as district manager. Hired five salespeople and 4 direct reports were promoted, managed up to eight account managers at a time.</li> <li> Developed new reports, marketing and promotional strategies for the field. Designed account reviews process, management and field training programs for the entire company.</li> <li> Sold small business owners and managed distributor sales accounts, using strategic planning, innovative programming and by cultivating strong personal relationships. Took area territory sales from $500,000 to $2.9 million, with a mature company in an industry with an average annual increase of only 3-5%.</li> </ul> </span> </span> </div> </div> <div class=\\\"paragraph\\\" id=\\\"PARAGRAPH_588215283_3_382804818\\\" itemscope=\\\"\\\" itemtype=\\\"https://schema.org/Organization\\\" style=\\\"\\n      padding-top:0px;\\n    \\\"> <div class=\\\"singlecolumn\\\"> <span class=\\\"paddedline\\\"> <span class=\\\"jobtitle\\\" id=\\\"588215283JTIT3\\\"> Financial Operations Executive and Department Merchandising Manager</span> <span class=\\\"datesWrapper\\\"> <span class=\\\"jobdates\\\" format=\\\"%m/%Y\\\" id=\\\"588215283JSTD3\\\"> 04/1988</span> <span class=\\\"jobdates\\\">  to </span> <span class=\\\"jobdates\\\" format=\\\"%m/%Y\\\" id=\\\"588215283EDDT3\\\"> 08/1989</span> </span> </span> <span class=\\\"paddedline\\\" itemscope=\\\"\\\" itemtype=\\\"https://schema.org/postalAddress\\\"> <span class=\\\"companyname\\\" id=\\\"588215283COMP3\\\" itemprop=\\\"name\\\"> Company Name</span> <span class=\\\"datesWrapper\\\"> <span class=\\\"joblocation jobcity\\\" id=\\\"588215283JCIT3\\\" itemprop=\\\"addressLocality\\\"> City</span> <span class=\\\"joblocation\\\"> , </span> <span class=\\\"joblocation jobstate\\\" id=\\\"588215283JSTA3\\\" itemprop=\\\"addressRegion\\\"> State</span> </span> </span> <span class=\\\"paddedline\\\"> <span class=\\\"jobline\\\" id=\\\"588215283JDES3\\\" itemprop=\\\"description\\\"> Financial Operations Executive for the South Bend store. Volunteered to be merchandise manager for the stores largest department. While in this role the department had the highest per foot sales volume of any department in the entire corporation during the 4th quarter of 1988.</span> </span> </div> </div> </div> <div class=\\\"section\\\" id=\\\"SECTION_ACCM588215285\\\" style=\\\"\\n      padding-top:0px;\\n    \\\"> <div class=\\\"heading\\\"> <div class=\\\"sectiontitle\\\" id=\\\"SECTNAME_ACCM588215285\\\"> Accomplishments</div> </div> <div class=\\\"paragraph firstparagraph\\\" id=\\\"PARAGRAPH_588215285_1_382804815\\\" style=\\\"\\n      padding-top:0px;\\n    \\\"> <div class=\\\"field singlecolumn\\\" id=\\\"588215285FRFM1\\\"> <ul> <li> 4 times President Achievement Guild Award winner, award for sales volume and profit.</li> <li> 3 times President Achievement Award winner, award for sales volume and profit.</li> <li> 4 times Achievement Guild winner, for leadership in 3 year running combined volume.</li> <li> Top travel and meetings sales several times since with BIW.</li> <li> National sales contest \\\"the 1993 Superbowl\\\".</li> <li> Twice awarded \\\"The Over Achiever of the Year\\\" by my most profitable direct customer.</li> <li> Reviewed consistently by management throughout career as \\\"Outstanding or Exceeding Expectations\\\".</li> <li> College: elected to executive positions with both Finance Club and Resident Housing Association.</li> </ul> </div> </div> </div> <div class=\\\"section\\\" id=\\\"SECTION_SKLL588215288\\\" style=\\\"\\n      padding-top:0px;\\n    \\\"> <div class=\\\"heading\\\"> <div class=\\\"sectiontitle\\\" id=\\\"SECTNAME_SKLL588215288\\\"> Skills</div> </div> <div class=\\\"paragraph firstparagraph\\\" id=\\\"PARAGRAPH_588215288_1_382804821\\\" style=\\\"\\n      padding-top:0px;\\n    \\\"> <div class=\\\"field singlecolumn\\\" id=\\\"588215288FRFM1\\\"> <p align=\\\"LEFT\\\"> Sales, Business Development, Distributor Sales, Territory Sales, District Sales, Sales of Solutions, Sales Teams, Sales Accounts, National Accounts, Sales Management, Strategic Accounts, Sales Promotions, Travel &amp; Meeting Sales, Technology Application Sales, Clients Management, Marketing, Budget, Budgets, Forecasts, Promotional, Travel &amp; Meeting Operations, Strategic Planning, Training, Training Development, Financial Operations, Merchandising, Corporate Operations, Employee Engagement, Managing Existing Accounts, Forecasting, Human Resources, Finding New Accounts, Relationship Building and Strategic Direction.</p> </div> </div> </div> <div class=\\\"section\\\" id=\\\"SECTION_EDUC588215284\\\" style=\\\"\\n      padding-top:0px;\\n    \\\"> <div class=\\\"heading\\\"> <div class=\\\"sectiontitle\\\" id=\\\"SECTNAME_EDUC588215284\\\"> Education</div> </div> <div class=\\\"paragraph firstparagraph\\\" id=\\\"PARAGRAPH_588215284_1_382804819\\\" itemscope=\\\"\\\" itemtype=\\\"https://schema.org/EducationalOrganization\\\" style=\\\"\\n      padding-top:0px;\\n    \\\"> <div class=\\\"singlecolumn\\\"> <span class=\\\"paddedline\\\" itemprop=\\\"description\\\"> <span class=\\\"degree\\\" id=\\\"588215284DGRE1\\\" itemprop=\\\"name\\\"> Bachelor of Business Administration</span> <span> : </span> <span class=\\\"programline\\\" id=\\\"588215284STUY1\\\"> Finance, General Business</span> <span class=\\\"datesWrapper\\\"> <span class=\\\"jobdates\\\" id=\\\"588215284GRYR1\\\"> 1988</span> <span> </span> </span> </span> <span class=\\\"paddedline\\\"> <span class=\\\"companyname companyname_educ\\\" id=\\\"588215284SCHO1\\\" itemprop=\\\"name\\\"> Western Michigan University</span> <span class=\\\"datesWrapper\\\"> <span class=\\\"joblocation jobcity educity\\\" id=\\\"588215284SCIT1\\\"> City</span> <span> , </span> <span class=\\\"joblocation jobstate edustate\\\" id=\\\"588215284SSTA1\\\"> State</span> <span> , </span> <span class=\\\"joblocation eduCountry\\\" id=\\\"588215284SCNT1\\\"> US</span> </span> </span> <span class=\\\"paddedline\\\"> <span class=\\\"field\\\" id=\\\"588215284FRFM1\\\"> <p align=\\\"LEFT\\\"> Earned over 85% of all educational/living costs. Jobs worked while in college, industrial heavy construction, excelled at several sales roles including at direct sales of home goods. While in direct sales I won a national trip and was ranked in the top 10 in the country in sales.  Started two successful on campus businesses. Member of the varsity division I football team for 4 years.</p> </span> </span> </div> </div> </div> <div class=\\\"section\\\" id=\\\"SECTION_AFIL588215287\\\" style=\\\"\\n      padding-top:0px;\\n    \\\"> <div class=\\\"heading\\\"> <div class=\\\"sectiontitle\\\" id=\\\"SECTNAME_AFIL588215287\\\"> Organizations</div> </div> <div class=\\\"paragraph firstparagraph\\\" id=\\\"PARAGRAPH_588215287_1_382804820\\\" style=\\\"\\n      padding-top:0px;\\n    \\\"> <div class=\\\"field singlecolumn\\\" id=\\\"588215287FRFM1\\\"> <p align=\\\"LEFT\\\"> IMEX, Milford Memories Planning Board, Huron Valley Youth Baseball President/Treasurer/Director of Travel Baseball, Lakeland Milford Travel Secretary and Milford High School baseball instructor.</p> </div> </div> </div> </div>\",\n          \"<div class=\\\"MPR skn-cbg1 fontsize fontface vmargins hmargins pagesize\\\" id=\\\"document\\\"> <div class=\\\"firstsection\\\" id=\\\"SECTION_PICT1c54d90b-f210-4994-a2df-6f797170b266\\\" style=\\\"padding-top:0px;\\\"> </div> <div class=\\\"section\\\" id=\\\"SECTION_NAMEafa5029c-ed20-4905-9618-559ac6326521\\\" style=\\\"padding-top:0px;\\\"> <div class=\\\"paragraph PARAGRAPH_NAME firstparagraph\\\" id=\\\"PARAGRAPH_afa5029c-ed20-4905-9618-559ac6326521_1_b72ebc9d-ef20-449c-9e46-f7af6ed76f8e\\\" style=\\\"padding-top:NaNpx;\\\"> <div class=\\\"name\\\" itemprop=\\\"name\\\"> <span class=\\\"field\\\" id=\\\"afa5029c-ed20-4905-9618-559ac6326521FNAM1\\\"> </span> <span> </span> <span class=\\\"field\\\" id=\\\"afa5029c-ed20-4905-9618-559ac6326521LNAM1\\\"> ENGINEERING MANAGER</span> </div> <div class=\\\"lowerborder\\\"> </div> </div> </div> <div class=\\\"section\\\" id=\\\"SECTION_SUMMa79b81cd-ed26-40a6-a71d-d369a97aaddf\\\" style=\\\"padding-top:0px;\\\"> <div class=\\\"heading\\\"> <div class=\\\"sectiontitle\\\" id=\\\"SECTNAME_SUMMa79b81cd-ed26-40a6-a71d-d369a97aaddf\\\"> Professional Summary</div> </div> <div class=\\\"paragraph firstparagraph\\\" id=\\\"PARAGRAPH_a79b81cd-ed26-40a6-a71d-d369a97aaddf_1_d37148e5-8011-49d3-b6b5-15a08f038d2a\\\" style=\\\"padding-top:NaNpx;\\\"> <div class=\\\"field singlecolumn\\\" id=\\\"a79b81cd-ed26-40a6-a71d-d369a97aaddfFRFM1\\\"> Experienced product development Engineer and manager able to collaborate with cross functional team as well as customers and sales to bring brand new offerings to new markets. Skilled at managing cross functional team for continuous improvements and meeting project deadlines. Offering 6 years of experience in the field.</div> </div> </div> <div class=\\\"section\\\" id=\\\"SECTION_HILT59198e28-8127-4e19-8680-aeff6e4e9111\\\" style=\\\"padding-top:0px;\\\"> <div class=\\\"heading\\\"> <div class=\\\"sectiontitle\\\" id=\\\"SECTNAME_HILT59198e28-8127-4e19-8680-aeff6e4e9111\\\"> Skills</div> </div> <div class=\\\"paragraph firstparagraph\\\" id=\\\"PARAGRAPH_59198e28-8127-4e19-8680-aeff6e4e9111_1_91ac5bb4-454c-4ef4-8ce9-93cfbec48dd8\\\" style=\\\"padding-top:NaNpx;\\\"> <div class=\\\"singlecolumn maincolumn\\\"> <table class=\\\"twocol\\\"> <tbody> <tr> <td class=\\\"field twocol_1\\\" id=\\\"59198e28-8127-4e19-8680-aeff6e4e9111SKC11\\\"> <ul> <li> Microsoft Office</li> <li> Microsoft Project</li> <li> Product development</li> <li> Quality</li> <li> Research</li> <li> Six Sigma Green Belt</li> <li> Solid Works</li> <li> Visio</li> <li> Prioritization</li> <li> Personnel management</li> <li> Critical thinking skills</li> <li> Team management</li> <li> Analyst, Visio</li> <li> Agency</li> <li> Consulting</li> <li> Cost analysis</li> <li> Critical thinking</li> <li> Designing</li> <li> Dialysis</li> <li> Direction</li> </ul> </td> <td class=\\\"field twocol_2\\\" id=\\\"59198e28-8127-4e19-8680-aeff6e4e9111SKC21\\\"> <ul> <li> Develop drug</li> <li> Functional</li> <li> IIa</li> <li> ISO</li> <li> Leadership</li> <li> Market and development</li> <li> Microsoft Office</li> <li> Microsoft Project</li> <li> Personnel management</li> <li> Design process</li> <li> Product development</li> <li> Product management</li> <li> Quality</li> <li> Researching</li> <li> Research</li> <li> Sales</li> <li> Six Sigma</li> <li> Solid Works</li> <li> Team management</li> <li> Validation</li> </ul> </td> </tr> </tbody> </table> </div> </div> </div> <div class=\\\"section\\\" id=\\\"SECTION_EXPR57f7e681-47f6-4b9d-bd84-cbc638b40345\\\" style=\\\"padding-top:0px;\\\"> <div class=\\\"heading\\\"> <div class=\\\"sectiontitle\\\" id=\\\"SECTNAME_EXPR57f7e681-47f6-4b9d-bd84-cbc638b40345\\\"> Work History</div> </div> <div class=\\\"paragraph firstparagraph\\\" id=\\\"PARAGRAPH_57f7e681-47f6-4b9d-bd84-cbc638b40345_1_81f1c5da-b869-42af-94e3-cacd539a1040\\\" itemscope=\\\"\\\" itemtype=\\\"https://schema.org/Organization\\\" style=\\\"padding-top:NaNpx;\\\"> <div class=\\\"singlecolumn\\\"> <span class=\\\"paddedline\\\" style=\\\"display: inline;\\\"> <span class=\\\"jobtitle\\\" id=\\\"57f7e681-47f6-4b9d-bd84-cbc638b40345JTIT1\\\"> Engineering Manager</span> <span> , </span> </span> <span class=\\\"paddedline\\\" style=\\\"display: inline;\\\"> <span class=\\\"jobdates\\\" format=\\\"%m/%Y\\\" id=\\\"57f7e681-47f6-4b9d-bd84-cbc638b40345JSTD1\\\"> 03/2018</span> <span>  to </span> <span class=\\\"jobdates\\\" format=\\\"%m/%Y\\\" id=\\\"57f7e681-47f6-4b9d-bd84-cbc638b40345EDDT1\\\"> Current</span> <br/> </span> <span class=\\\"paddedline\\\" itemscope=\\\"\\\" itemtype=\\\"https://schema.org/postalAddress\\\"> <span class=\\\"companyname\\\" id=\\\"57f7e681-47f6-4b9d-bd84-cbc638b40345COMP1\\\" itemprop=\\\"name\\\"> </span> <span class=\\\"joblocation jobcity\\\" id=\\\"57f7e681-47f6-4b9d-bd84-cbc638b40345JCIT1\\\" itemprop=\\\"addressLocality\\\"> City</span> <span> , </span> <span class=\\\"joblocation jobstate\\\" id=\\\"57f7e681-47f6-4b9d-bd84-cbc638b40345JSTA1\\\" itemprop=\\\"addressRegion\\\"> State</span> <br/> </span> <span class=\\\"jobline\\\" id=\\\"57f7e681-47f6-4b9d-bd84-cbc638b40345JDES1\\\" itemprop=\\\"description\\\"> <ul> <li> Create and maintain Technical Files per MDR requirements as well as attaining 510k on legacy products.</li> <li> Assess testing gaps of legacy products and design creep.</li> <li> Experienced in working with multiple departments.</li> <li> Experienced in training and leading engineers in order to investigate field complaints, Gap analysis and building Technical files/DHF.</li> <li> Experienced in leading team of engineers to lead all aspects of design process, including regulatory needs per market and development per design control.</li> <li> Tasked to create test plan and analysis of existing Class I, II and III products and Testing per latest applicable requirements.</li> <li> Trained team in conducting project related cost analysis, test gap analysis and researching ISO/EN ISO/ASTM requirements.</li> <li> Leading companywide EU MDR product transfer and testing on Infusion products, Dialysis products and standalone products.</li> <li> Provided technical direction on MDR and 510k related projects and initiatives to other engineers and technicians.</li> </ul> </span> </div> </div> <div class=\\\"paragraph\\\" id=\\\"PARAGRAPH_57f7e681-47f6-4b9d-bd84-cbc638b40345_2_c5e121c4-d6fe-4d94-bb47-2d7a992e1427\\\" itemscope=\\\"\\\" itemtype=\\\"https://schema.org/Organization\\\" style=\\\"padding-top:NaNpx;\\\"> <div class=\\\"singlecolumn\\\"> <span class=\\\"paddedline\\\" style=\\\"display: inline;\\\"> <span class=\\\"jobtitle\\\" id=\\\"57f7e681-47f6-4b9d-bd84-cbc638b40345JTIT2\\\"> Project Engineer II</span> <span> , </span> </span> <span class=\\\"paddedline\\\" style=\\\"display: inline;\\\"> <span class=\\\"jobdates\\\" format=\\\"%m/%Y\\\" id=\\\"57f7e681-47f6-4b9d-bd84-cbc638b40345JSTD2\\\"> 03/2017</span> <span>  to </span> <span class=\\\"jobdates\\\" format=\\\"%m/%Y\\\" id=\\\"57f7e681-47f6-4b9d-bd84-cbc638b40345EDDT2\\\"> 03/2018</span> <br/> </span> <span class=\\\"paddedline\\\" itemscope=\\\"\\\" itemtype=\\\"https://schema.org/postalAddress\\\"> <span class=\\\"companyname\\\" id=\\\"57f7e681-47f6-4b9d-bd84-cbc638b40345COMP2\\\" itemprop=\\\"name\\\"> Company Name</span> <span>  \\u2013 </span> <span class=\\\"joblocation jobcity\\\" id=\\\"57f7e681-47f6-4b9d-bd84-cbc638b40345JCIT2\\\" itemprop=\\\"addressLocality\\\"> City</span> <span> , </span> <span class=\\\"joblocation jobstate\\\" id=\\\"57f7e681-47f6-4b9d-bd84-cbc638b40345JSTA2\\\" itemprop=\\\"addressRegion\\\"> State</span> <br/> </span> <span class=\\\"jobline\\\" id=\\\"57f7e681-47f6-4b9d-bd84-cbc638b40345JDES2\\\" itemprop=\\\"description\\\"> <ul> <li> Working with product management, Clinical Analyst, sales, and regulatory to determine optimal design inputs for new products.</li> <li> Completed design transfer and attained 510k on Class IIb device in under year.</li> <li> Lead cross functional team including consulting agency in order to Develop drug device combination product and research optimal process using DOE in order for mass production.</li> <li> Leading all aspects of design control from designing on solid works to process validations and V&amp;V Testing.</li> <li> Analyzing and resolving field failures through investigation and testing.</li> <li> Experienced in working with international regulatory teams in providing information for foreign registration.</li> <li> Responsible for gap analysis and test planning in order to create and meet deadline for projects.</li> <li> Experienced with reviewing and approving validation activities as well as provide support to staff to achieve project milestones.</li> <li> Experienced working with cross functional teams to complete projects and tasks.</li> </ul> </span> </div> </div> <div class=\\\"paragraph\\\" id=\\\"PARAGRAPH_57f7e681-47f6-4b9d-bd84-cbc638b40345_3_491b8c27-b7f3-4db9-a48d-46bfa2dd83ee\\\" itemscope=\\\"\\\" itemtype=\\\"https://schema.org/Organization\\\" style=\\\"padding-top:NaNpx;\\\"> <div class=\\\"singlecolumn\\\"> <span class=\\\"paddedline\\\" style=\\\"display: inline;\\\"> <span class=\\\"jobtitle\\\" id=\\\"57f7e681-47f6-4b9d-bd84-cbc638b40345JTIT3\\\"> Engineer I</span> <span> , </span> </span> <span class=\\\"paddedline\\\" style=\\\"display: inline;\\\"> <span class=\\\"jobdates\\\" format=\\\"%m/%Y\\\" id=\\\"57f7e681-47f6-4b9d-bd84-cbc638b40345JSTD3\\\"> 06/2013</span> <span>  to </span> <span class=\\\"jobdates\\\" format=\\\"%m/%Y\\\" id=\\\"57f7e681-47f6-4b9d-bd84-cbc638b40345EDDT3\\\"> 03/2017</span> <br/> </span> <span class=\\\"paddedline\\\" itemscope=\\\"\\\" itemtype=\\\"https://schema.org/postalAddress\\\"> <span class=\\\"companyname\\\" id=\\\"57f7e681-47f6-4b9d-bd84-cbc638b40345COMP3\\\" itemprop=\\\"name\\\"> Company Name</span> <span>  \\u2013 </span> <span class=\\\"joblocation jobcity\\\" id=\\\"57f7e681-47f6-4b9d-bd84-cbc638b40345JCIT3\\\" itemprop=\\\"addressLocality\\\"> City</span> <span> , </span> <span class=\\\"joblocation jobstate\\\" id=\\\"57f7e681-47f6-4b9d-bd84-cbc638b40345JSTA3\\\" itemprop=\\\"addressRegion\\\"> State</span> <br/> </span> <span class=\\\"jobline\\\" id=\\\"57f7e681-47f6-4b9d-bd84-cbc638b40345JDES3\\\" itemprop=\\\"description\\\"> <ul> <li> Worked to bring Drug Device Combination product to mass production.</li> <li> Completed new Class IIa product and completed project in 10 months.</li> <li> Completing CAPAs and resolving field failures by research and testing.</li> <li> Developed new testing methods and designed tooling for new testing.</li> <li> Experienced in using Injection Molding Machine to Create and Test Prototypes.</li> <li> Found cheaper and more responsible vendor for MRI related testing.</li> </ul> </span> </div> </div> </div> <div class=\\\"section\\\" id=\\\"SECTION_EDUCc3ff1b76-45c2-4256-801f-1d93a6d48a74\\\" style=\\\"padding-top:0px;\\\"> <div class=\\\"heading\\\"> <div class=\\\"sectiontitle\\\" id=\\\"SECTNAME_EDUCc3ff1b76-45c2-4256-801f-1d93a6d48a74\\\"> Education</div> </div> <div class=\\\"paragraph firstparagraph\\\" id=\\\"PARAGRAPH_c3ff1b76-45c2-4256-801f-1d93a6d48a74_1_7d553f36-a7b2-4ee5-ada1-c08888ca8509\\\" itemscope=\\\"\\\" itemtype=\\\"https://schema.org/EducationalOrganization\\\" style=\\\"padding-top:NaNpx;\\\"> <div class=\\\"singlecolumn\\\"> <span class=\\\"paddedline\\\" itemprop=\\\"description\\\"> <span class=\\\"degree\\\" id=\\\"c3ff1b76-45c2-4256-801f-1d93a6d48a74DGRE1\\\" itemprop=\\\"name\\\"> Bachelor of Science</span> <span> : </span> <span class=\\\"programline\\\" id=\\\"c3ff1b76-45c2-4256-801f-1d93a6d48a74STUY1\\\"> Mechanical Engineering</span> <span> , </span> <span format=\\\"%m/%Y\\\" id=\\\"c3ff1b76-45c2-4256-801f-1d93a6d48a74GRYR1\\\"> 05/2013</span> <br/> </span> <span class=\\\"paddedline\\\"> <span class=\\\"companyname companyname_educ\\\" id=\\\"c3ff1b76-45c2-4256-801f-1d93a6d48a74SCHO1\\\" itemprop=\\\"name\\\"> Temple University</span> <span>  - </span> <span class=\\\"joblocation jobcity\\\" id=\\\"c3ff1b76-45c2-4256-801f-1d93a6d48a74SCIT1\\\"> City</span> <span> , </span> <span class=\\\"joblocation jobstate\\\" id=\\\"c3ff1b76-45c2-4256-801f-1d93a6d48a74SSTA1\\\"> State</span> <br/> </span> <span class=\\\"field\\\" id=\\\"c3ff1b76-45c2-4256-801f-1d93a6d48a74FRFM1\\\"> </span> </div> </div> <div class=\\\"paragraph\\\" id=\\\"PARAGRAPH_c3ff1b76-45c2-4256-801f-1d93a6d48a74_2_927d72ba-b039-4a46-970c-25339dd8e216\\\" itemscope=\\\"\\\" itemtype=\\\"https://schema.org/EducationalOrganization\\\" style=\\\"padding-top:NaNpx;\\\"> <div class=\\\"singlecolumn\\\"> <span class=\\\"paddedline\\\" itemprop=\\\"description\\\"> <span class=\\\"degree\\\" id=\\\"c3ff1b76-45c2-4256-801f-1d93a6d48a74DGRE2\\\" itemprop=\\\"name\\\"> Certifications\\nManagement Leadership Certification and Six Sigma Greenbelt certification</span> <span class=\\\"programline\\\" id=\\\"c3ff1b76-45c2-4256-801f-1d93a6d48a74STUY2\\\"> </span> <span format=\\\"%m/%Y\\\" id=\\\"c3ff1b76-45c2-4256-801f-1d93a6d48a74GRYR2\\\"> </span> </span> <span class=\\\"field\\\" id=\\\"c3ff1b76-45c2-4256-801f-1d93a6d48a74FRFM2\\\"> </span> </div> </div> </div> <div class=\\\"section\\\" id=\\\"SECTION_WRKH94eaceaf-fc70-4558-aae7-c02aa39afdaa\\\" style=\\\"padding-top:0px;\\\"> <div class=\\\"heading\\\"> <div class=\\\"sectiontitle\\\" id=\\\"SECTNAME_WRKH94eaceaf-fc70-4558-aae7-c02aa39afdaa\\\"> Work History</div> </div> <div class=\\\"paragraph firstparagraph\\\" id=\\\"PARAGRAPH_94eaceaf-fc70-4558-aae7-c02aa39afdaa_1_683ed507-7415-4bc5-b721-adecaa5a90b4\\\" itemscope=\\\"\\\" itemtype=\\\"https://schema.org/Organization\\\" style=\\\"padding-top:NaNpx;\\\"> <div class=\\\"singlecolumn\\\"> <span class=\\\"paddedline\\\"> <span class=\\\"jobtitle\\\" id=\\\"94eaceaf-fc70-4558-aae7-c02aa39afdaaJTIT1\\\"> Engineering Manager</span> <span> , </span> <span class=\\\"jobdates\\\" format=\\\"%m/%Y\\\" id=\\\"94eaceaf-fc70-4558-aae7-c02aa39afdaaJSTD1\\\"> 03/2018</span> <span>  to </span> <span class=\\\"jobdates\\\" format=\\\"%m/%Y\\\" id=\\\"94eaceaf-fc70-4558-aae7-c02aa39afdaaEDDT1\\\"> Current</span> <br/> </span> <span class=\\\"paddedline\\\" itemscope=\\\"\\\" itemtype=\\\"https://schema.org/postalAddress\\\"> <span class=\\\"companyname\\\" id=\\\"94eaceaf-fc70-4558-aae7-c02aa39afdaaCOMP1\\\" itemprop=\\\"name\\\"> </span> <span class=\\\"joblocation jobcity\\\" id=\\\"94eaceaf-fc70-4558-aae7-c02aa39afdaaJCIT1\\\" itemprop=\\\"addressLocality\\\"> City</span> <span> , </span> <span class=\\\"joblocation jobstate\\\" id=\\\"94eaceaf-fc70-4558-aae7-c02aa39afdaaJSTA1\\\" itemprop=\\\"addressRegion\\\"> State</span> <br/> </span> <span class=\\\"jobline\\\" id=\\\"94eaceaf-fc70-4558-aae7-c02aa39afdaaJDES1\\\" itemprop=\\\"description\\\"> <ul> <li> Create and maintain Technical Files per MDR requirements as well as attaining 510k on legacy products.</li> <li> Assess testing gaps of legacy products and design creep.</li> <li> Experienced in working with multiple departments.</li> <li> Experienced in training and leading engineers in order to investigate field complaints, Gap analysis and building Technical files/DHF.</li> <li> Experienced in leading team of engineers to lead all aspects of design process, including regulatory needs per market and development per design control.</li> <li> Tasked to create test plan and analysis of existing Class I, II and III products and Testing per latest applicable requirements.</li> <li> Trained team in conducting project related cost analysis, test gap analysis and researching ISO/EN ISO/ASTM requirements.</li> <li> Leading companywide EU MDR product transfer and testing on Infusion products, Dialysis products and standalone products.</li> <li> Provided technical direction on MDR and 510k related projects and initiatives to other engineers and technicians.</li> </ul> </span> </div> </div> <div class=\\\"paragraph\\\" id=\\\"PARAGRAPH_94eaceaf-fc70-4558-aae7-c02aa39afdaa_2_ec8a0290-f8d6-49f4-917e-1272dd2fa499\\\" itemscope=\\\"\\\" itemtype=\\\"https://schema.org/Organization\\\" style=\\\"padding-top:NaNpx;\\\"> <div class=\\\"singlecolumn\\\"> <span class=\\\"paddedline\\\"> <span class=\\\"jobtitle\\\" id=\\\"94eaceaf-fc70-4558-aae7-c02aa39afdaaJTIT2\\\"> Project Engineer II</span> <span> , </span> <span class=\\\"jobdates\\\" format=\\\"%m/%Y\\\" id=\\\"94eaceaf-fc70-4558-aae7-c02aa39afdaaJSTD2\\\"> 03/2017</span> <span>  to </span> <span class=\\\"jobdates\\\" format=\\\"%m/%Y\\\" id=\\\"94eaceaf-fc70-4558-aae7-c02aa39afdaaEDDT2\\\"> 03/2018</span> <br/> </span> <span class=\\\"paddedline\\\" itemscope=\\\"\\\" itemtype=\\\"https://schema.org/postalAddress\\\"> <span class=\\\"companyname\\\" id=\\\"94eaceaf-fc70-4558-aae7-c02aa39afdaaCOMP2\\\" itemprop=\\\"name\\\"> Company Name</span> <span>  \\u2013 </span> <span class=\\\"joblocation jobcity\\\" id=\\\"94eaceaf-fc70-4558-aae7-c02aa39afdaaJCIT2\\\" itemprop=\\\"addressLocality\\\"> City</span> <span> , </span> <span class=\\\"joblocation jobstate\\\" id=\\\"94eaceaf-fc70-4558-aae7-c02aa39afdaaJSTA2\\\" itemprop=\\\"addressRegion\\\"> State</span> <br/> </span> <span class=\\\"jobline\\\" id=\\\"94eaceaf-fc70-4558-aae7-c02aa39afdaaJDES2\\\" itemprop=\\\"description\\\"> <ul> <li> Working with product management, Clinical Analyst, sales, and regulatory to determine optimal design inputs for new products.</li> <li> Completed design transfer and attained 510k on Class IIb device in under year.</li> <li> Lead cross functional team including consulting agency in order to Develop drug device combination product and research optimal process using DOE in order for mass production.</li> <li> Leading all aspects of design control from designing on solid works to process validations and V&amp;V Testing.</li> <li> Analyzing and resolving field failures through investigation and testing.</li> <li> Experienced in working with international regulatory teams in providing information for foreign registration.</li> <li> Responsible for gap analysis and test planning in order to create and meet deadline for projects.</li> <li> Experienced with reviewing and approving validation activities as well as provide support to staff to achieve project milestones.</li> <li> Experienced working with cross functional teams to complete projects and tasks.</li> </ul> </span> </div> </div> <div class=\\\"paragraph\\\" id=\\\"PARAGRAPH_94eaceaf-fc70-4558-aae7-c02aa39afdaa_3_95104344-4f04-46e2-9f70-7d9cc463a747\\\" itemscope=\\\"\\\" itemtype=\\\"https://schema.org/Organization\\\" style=\\\"padding-top:NaNpx;\\\"> <div class=\\\"singlecolumn\\\"> <span class=\\\"paddedline\\\"> <span class=\\\"jobtitle\\\" id=\\\"94eaceaf-fc70-4558-aae7-c02aa39afdaaJTIT3\\\"> Engineer I</span> <span> , </span> <span class=\\\"jobdates\\\" format=\\\"%m/%Y\\\" id=\\\"94eaceaf-fc70-4558-aae7-c02aa39afdaaJSTD3\\\"> 06/2013</span> <span>  to </span> <span class=\\\"jobdates\\\" format=\\\"%m/%Y\\\" id=\\\"94eaceaf-fc70-4558-aae7-c02aa39afdaaEDDT3\\\"> 03/2017</span> <br/> </span> <span class=\\\"paddedline\\\" itemscope=\\\"\\\" itemtype=\\\"https://schema.org/postalAddress\\\"> <span class=\\\"companyname\\\" id=\\\"94eaceaf-fc70-4558-aae7-c02aa39afdaaCOMP3\\\" itemprop=\\\"name\\\"> Company Name</span> <span>  \\u2013 </span> <span class=\\\"joblocation jobcity\\\" id=\\\"94eaceaf-fc70-4558-aae7-c02aa39afdaaJCIT3\\\" itemprop=\\\"addressLocality\\\"> City</span> <span> , </span> <span class=\\\"joblocation jobstate\\\" id=\\\"94eaceaf-fc70-4558-aae7-c02aa39afdaaJSTA3\\\" itemprop=\\\"addressRegion\\\"> State</span> <br/> </span> <span class=\\\"jobline\\\" id=\\\"94eaceaf-fc70-4558-aae7-c02aa39afdaaJDES3\\\" itemprop=\\\"description\\\"> <ul> <li> Worked to bring Drug Device Combination product to mass production.</li> <li> Completed new Class IIa product and completed project in 10 months.</li> <li> Completing CAPAs and resolving field failures by research and testing.</li> <li> Developed new testing methods and designed tooling for new testing.</li> <li> Experienced in using Injection Molding Machine to Create and Test Prototypes.</li> <li> Found cheaper and more responsible vendor for MRI related testing.</li> </ul> </span> </div> </div> </div> <div class=\\\"section\\\" id=\\\"SECTION_SKLL76d684b9-d30d-44de-810c-b0f4c84e80c1\\\" style=\\\"padding-top:0px;\\\"> <div class=\\\"heading\\\"> <div class=\\\"sectiontitle\\\" id=\\\"SECTNAME_SKLL76d684b9-d30d-44de-810c-b0f4c84e80c1\\\"> Skills</div> </div> <div class=\\\"paragraph firstparagraph\\\" id=\\\"PARAGRAPH_76d684b9-d30d-44de-810c-b0f4c84e80c1_1_6b2d0ea2-b0fe-4911-af72-588efa1c02a6\\\" style=\\\"padding-top:NaNpx;\\\"> <div class=\\\"field singlecolumn\\\" id=\\\"76d684b9-d30d-44de-810c-b0f4c84e80c1FRFM1\\\"> <li> Microsoft Office</li> <li> Microsoft Project</li> <li> Product development</li> <li> Quality</li> <li> Research</li> <li> Six Sigma Green Belt</li> <li> Solid Works</li> <li> Visio</li> <li> Prioritization</li> <li> Personnel management</li> <li> Critical thinking skills</li> <li> Team management,</li> <li> Analyst, agency, consulting, cost analysis, Critical thinking, Designing, Dialysis, direction, Develop drug, functional, IIa, ISO, Leadership, market and development, Microsoft Office, Microsoft Project, Personnel management, design process, Product development, product management, Quality, researching, Research, sales, Six Sigma, Solid Works, Team management, validation, Visio</li> </div> </div> </div> </div>\"\n        ],\n        \"semantic_type\": \"\",\n        \"description\": \"\"\n      }\n    },\n    {\n      \"column\": \"Category\",\n      \"properties\": {\n        \"dtype\": \"category\",\n        \"num_unique_values\": 24,\n        \"samples\": [\n          \"AGRICULTURE\",\n          \"APPAREL\",\n          \"HR\"\n        ],\n        \"semantic_type\": \"\",\n        \"description\": \"\"\n      }\n    }\n  ]\n}"
            }
          },
          "metadata": {},
          "execution_count": 31
        }
      ]
    },
    {
      "cell_type": "code",
      "source": [
        "#Number of rows and columns\n",
        "df.shape"
      ],
      "metadata": {
        "colab": {
          "base_uri": "https://localhost:8080/"
        },
        "id": "7OnEcszRbTzi",
        "outputId": "aa342eef-3b28-49cb-bf6e-87b07cd9ecf4"
      },
      "execution_count": 32,
      "outputs": [
        {
          "output_type": "execute_result",
          "data": {
            "text/plain": [
              "(2484, 4)"
            ]
          },
          "metadata": {},
          "execution_count": 32
        }
      ]
    },
    {
      "cell_type": "code",
      "source": [
        "#Check missing values\n",
        "df.isnull().sum()"
      ],
      "metadata": {
        "colab": {
          "base_uri": "https://localhost:8080/",
          "height": 209
        },
        "id": "nf0_7J7VfKVa",
        "outputId": "a2e5fd7f-85f1-4efa-ae82-bda77518d027"
      },
      "execution_count": 33,
      "outputs": [
        {
          "output_type": "execute_result",
          "data": {
            "text/plain": [
              "ID             0\n",
              "Resume_str     0\n",
              "Resume_html    0\n",
              "Category       0\n",
              "dtype: int64"
            ],
            "text/html": [
              "<div>\n",
              "<style scoped>\n",
              "    .dataframe tbody tr th:only-of-type {\n",
              "        vertical-align: middle;\n",
              "    }\n",
              "\n",
              "    .dataframe tbody tr th {\n",
              "        vertical-align: top;\n",
              "    }\n",
              "\n",
              "    .dataframe thead th {\n",
              "        text-align: right;\n",
              "    }\n",
              "</style>\n",
              "<table border=\"1\" class=\"dataframe\">\n",
              "  <thead>\n",
              "    <tr style=\"text-align: right;\">\n",
              "      <th></th>\n",
              "      <th>0</th>\n",
              "    </tr>\n",
              "  </thead>\n",
              "  <tbody>\n",
              "    <tr>\n",
              "      <th>ID</th>\n",
              "      <td>0</td>\n",
              "    </tr>\n",
              "    <tr>\n",
              "      <th>Resume_str</th>\n",
              "      <td>0</td>\n",
              "    </tr>\n",
              "    <tr>\n",
              "      <th>Resume_html</th>\n",
              "      <td>0</td>\n",
              "    </tr>\n",
              "    <tr>\n",
              "      <th>Category</th>\n",
              "      <td>0</td>\n",
              "    </tr>\n",
              "  </tbody>\n",
              "</table>\n",
              "</div><br><label><b>dtype:</b> int64</label>"
            ]
          },
          "metadata": {},
          "execution_count": 33
        }
      ]
    },
    {
      "cell_type": "code",
      "source": [
        "#Unique job categories\n",
        "df['Category'].unique()"
      ],
      "metadata": {
        "colab": {
          "base_uri": "https://localhost:8080/"
        },
        "id": "1lFJrYy7fObC",
        "outputId": "8405022a-d686-455b-a80e-0a1112f53d7b"
      },
      "execution_count": 34,
      "outputs": [
        {
          "output_type": "execute_result",
          "data": {
            "text/plain": [
              "array(['HR', 'DESIGNER', 'INFORMATION-TECHNOLOGY', 'TEACHER', 'ADVOCATE',\n",
              "       'BUSINESS-DEVELOPMENT', 'HEALTHCARE', 'FITNESS', 'AGRICULTURE',\n",
              "       'BPO', 'SALES', 'CONSULTANT', 'DIGITAL-MEDIA', 'AUTOMOBILE',\n",
              "       'CHEF', 'FINANCE', 'APPAREL', 'ENGINEERING', 'ACCOUNTANT',\n",
              "       'CONSTRUCTION', 'PUBLIC-RELATIONS', 'BANKING', 'ARTS', 'AVIATION'],\n",
              "      dtype=object)"
            ]
          },
          "metadata": {},
          "execution_count": 34
        }
      ]
    },
    {
      "cell_type": "code",
      "source": [
        "#How many resumes per category?\n",
        "df['Category'].value_counts()"
      ],
      "metadata": {
        "colab": {
          "base_uri": "https://localhost:8080/",
          "height": 868
        },
        "id": "z34_jEqXfUWi",
        "outputId": "0da9d914-bbb0-4c83-d525-5eff284c5912"
      },
      "execution_count": 35,
      "outputs": [
        {
          "output_type": "execute_result",
          "data": {
            "text/plain": [
              "Category\n",
              "INFORMATION-TECHNOLOGY    120\n",
              "BUSINESS-DEVELOPMENT      120\n",
              "ADVOCATE                  118\n",
              "CHEF                      118\n",
              "ENGINEERING               118\n",
              "ACCOUNTANT                118\n",
              "FINANCE                   118\n",
              "FITNESS                   117\n",
              "AVIATION                  117\n",
              "SALES                     116\n",
              "BANKING                   115\n",
              "HEALTHCARE                115\n",
              "CONSULTANT                115\n",
              "CONSTRUCTION              112\n",
              "PUBLIC-RELATIONS          111\n",
              "HR                        110\n",
              "DESIGNER                  107\n",
              "ARTS                      103\n",
              "TEACHER                   102\n",
              "APPAREL                    97\n",
              "DIGITAL-MEDIA              96\n",
              "AGRICULTURE                63\n",
              "AUTOMOBILE                 36\n",
              "BPO                        22\n",
              "Name: count, dtype: int64"
            ],
            "text/html": [
              "<div>\n",
              "<style scoped>\n",
              "    .dataframe tbody tr th:only-of-type {\n",
              "        vertical-align: middle;\n",
              "    }\n",
              "\n",
              "    .dataframe tbody tr th {\n",
              "        vertical-align: top;\n",
              "    }\n",
              "\n",
              "    .dataframe thead th {\n",
              "        text-align: right;\n",
              "    }\n",
              "</style>\n",
              "<table border=\"1\" class=\"dataframe\">\n",
              "  <thead>\n",
              "    <tr style=\"text-align: right;\">\n",
              "      <th></th>\n",
              "      <th>count</th>\n",
              "    </tr>\n",
              "    <tr>\n",
              "      <th>Category</th>\n",
              "      <th></th>\n",
              "    </tr>\n",
              "  </thead>\n",
              "  <tbody>\n",
              "    <tr>\n",
              "      <th>INFORMATION-TECHNOLOGY</th>\n",
              "      <td>120</td>\n",
              "    </tr>\n",
              "    <tr>\n",
              "      <th>BUSINESS-DEVELOPMENT</th>\n",
              "      <td>120</td>\n",
              "    </tr>\n",
              "    <tr>\n",
              "      <th>ADVOCATE</th>\n",
              "      <td>118</td>\n",
              "    </tr>\n",
              "    <tr>\n",
              "      <th>CHEF</th>\n",
              "      <td>118</td>\n",
              "    </tr>\n",
              "    <tr>\n",
              "      <th>ENGINEERING</th>\n",
              "      <td>118</td>\n",
              "    </tr>\n",
              "    <tr>\n",
              "      <th>ACCOUNTANT</th>\n",
              "      <td>118</td>\n",
              "    </tr>\n",
              "    <tr>\n",
              "      <th>FINANCE</th>\n",
              "      <td>118</td>\n",
              "    </tr>\n",
              "    <tr>\n",
              "      <th>FITNESS</th>\n",
              "      <td>117</td>\n",
              "    </tr>\n",
              "    <tr>\n",
              "      <th>AVIATION</th>\n",
              "      <td>117</td>\n",
              "    </tr>\n",
              "    <tr>\n",
              "      <th>SALES</th>\n",
              "      <td>116</td>\n",
              "    </tr>\n",
              "    <tr>\n",
              "      <th>BANKING</th>\n",
              "      <td>115</td>\n",
              "    </tr>\n",
              "    <tr>\n",
              "      <th>HEALTHCARE</th>\n",
              "      <td>115</td>\n",
              "    </tr>\n",
              "    <tr>\n",
              "      <th>CONSULTANT</th>\n",
              "      <td>115</td>\n",
              "    </tr>\n",
              "    <tr>\n",
              "      <th>CONSTRUCTION</th>\n",
              "      <td>112</td>\n",
              "    </tr>\n",
              "    <tr>\n",
              "      <th>PUBLIC-RELATIONS</th>\n",
              "      <td>111</td>\n",
              "    </tr>\n",
              "    <tr>\n",
              "      <th>HR</th>\n",
              "      <td>110</td>\n",
              "    </tr>\n",
              "    <tr>\n",
              "      <th>DESIGNER</th>\n",
              "      <td>107</td>\n",
              "    </tr>\n",
              "    <tr>\n",
              "      <th>ARTS</th>\n",
              "      <td>103</td>\n",
              "    </tr>\n",
              "    <tr>\n",
              "      <th>TEACHER</th>\n",
              "      <td>102</td>\n",
              "    </tr>\n",
              "    <tr>\n",
              "      <th>APPAREL</th>\n",
              "      <td>97</td>\n",
              "    </tr>\n",
              "    <tr>\n",
              "      <th>DIGITAL-MEDIA</th>\n",
              "      <td>96</td>\n",
              "    </tr>\n",
              "    <tr>\n",
              "      <th>AGRICULTURE</th>\n",
              "      <td>63</td>\n",
              "    </tr>\n",
              "    <tr>\n",
              "      <th>AUTOMOBILE</th>\n",
              "      <td>36</td>\n",
              "    </tr>\n",
              "    <tr>\n",
              "      <th>BPO</th>\n",
              "      <td>22</td>\n",
              "    </tr>\n",
              "  </tbody>\n",
              "</table>\n",
              "</div><br><label><b>dtype:</b> int64</label>"
            ]
          },
          "metadata": {},
          "execution_count": 35
        }
      ]
    },
    {
      "cell_type": "code",
      "source": [
        "#Example of a resume\n",
        "df['Resume_str'][0][:1000]"
      ],
      "metadata": {
        "colab": {
          "base_uri": "https://localhost:8080/",
          "height": 202
        },
        "id": "t-k-4VtgfwFS",
        "outputId": "6571ed14-aac2-492e-d152-96b0b36e6d02"
      },
      "execution_count": 36,
      "outputs": [
        {
          "output_type": "execute_result",
          "data": {
            "text/plain": [
              "'         HR ADMINISTRATOR/MARKETING ASSOCIATE\\n\\nHR ADMINISTRATOR       Summary     Dedicated Customer Service Manager with 15+ years of experience in Hospitality and Customer Service Management.   Respected builder and leader of customer-focused teams; strives to instill a shared, enthusiastic commitment to customer service.         Highlights         Focused on customer satisfaction  Team management  Marketing savvy  Conflict resolution techniques     Training and development  Skilled multi-tasker  Client relations specialist           Accomplishments      Missouri DOT Supervisor Training Certification  Certified by IHG in Customer Loyalty and Marketing by Segment   Hilton Worldwide General Manager Training Certification  Accomplished Trainer for cross server hospitality systems such as    Hilton OnQ  ,   Micros    Opera PMS   , Fidelio    OPERA    Reservation System (ORS) ,   Holidex    Completed courses and seminars in customer service, sales strategies, inventory control, loss preve'"
            ],
            "application/vnd.google.colaboratory.intrinsic+json": {
              "type": "string"
            }
          },
          "metadata": {},
          "execution_count": 36
        }
      ]
    },
    {
      "cell_type": "markdown",
      "source": [
        "Phase 2: Data Cleaning & Preprocessing"
      ],
      "metadata": {
        "id": "L8cxxLd-gfVU"
      }
    },
    {
      "cell_type": "code",
      "source": [
        "#Install and import libraries\n",
        "import re\n",
        "import nltk\n",
        "from nltk.corpus import stopwords\n",
        "from nltk.stem import WordNetLemmatizer\n",
        "nltk.download('stopwords')\n",
        "nltk.download('wordnet')\n",
        "nltk.download('omw-1.4')"
      ],
      "metadata": {
        "colab": {
          "base_uri": "https://localhost:8080/"
        },
        "id": "Its7HvkNgAnD",
        "outputId": "d87a089c-b8d9-4160-efc9-6d6c54353d05"
      },
      "execution_count": 37,
      "outputs": [
        {
          "output_type": "stream",
          "name": "stderr",
          "text": [
            "[nltk_data] Downloading package stopwords to /root/nltk_data...\n",
            "[nltk_data]   Package stopwords is already up-to-date!\n",
            "[nltk_data] Downloading package wordnet to /root/nltk_data...\n",
            "[nltk_data]   Package wordnet is already up-to-date!\n",
            "[nltk_data] Downloading package omw-1.4 to /root/nltk_data...\n",
            "[nltk_data]   Package omw-1.4 is already up-to-date!\n"
          ]
        },
        {
          "output_type": "execute_result",
          "data": {
            "text/plain": [
              "True"
            ]
          },
          "metadata": {},
          "execution_count": 37
        }
      ]
    },
    {
      "cell_type": "code",
      "source": [
        "#Initialize Lemmatizer & Stopwords\n",
        "lemmatizer = WordNetLemmatizer()\n",
        "stop_words = set(stopwords.words('english'))"
      ],
      "metadata": {
        "id": "TxH3GZSmhwvL"
      },
      "execution_count": 38,
      "outputs": []
    },
    {
      "cell_type": "code",
      "source": [
        "#Cleaning Function\n",
        "def clean_resume(text):\n",
        "  #Remove html tags\n",
        "  text = re.sub(r'<.*?>', ' ', str(text))\n",
        "\n",
        "  #Remove URLs\n",
        "  text = re.sub(r'http\\S+|www\\S+', ' ', text)\n",
        "\n",
        "  # Remove special characters and digits\n",
        "  text = re.sub(r'[^a-zA-Z]', ' ', text)\n",
        "\n",
        "  # Lowercase\n",
        "  text = text.lower()\n",
        "\n",
        "  # Tokenize and remove stopwords, then lemmatize\n",
        "  words = text.split()\n",
        "\n",
        "  words = [lemmatizer.lemmatize(word) for word in words if word not in stop_words]\n",
        "  return ' '.join(words)"
      ],
      "metadata": {
        "id": "nE9v_7vSiHEr"
      },
      "execution_count": 39,
      "outputs": []
    },
    {
      "cell_type": "code",
      "source": [
        "#Apply Cleaning\n",
        "df['Cleaned_Resume'] = df['Resume_str'].apply(clean_resume)"
      ],
      "metadata": {
        "id": "Zjru-tCZymdP"
      },
      "execution_count": 40,
      "outputs": []
    },
    {
      "cell_type": "code",
      "source": [
        "#Check Result\n",
        "df[['Resume_str', 'Cleaned_Resume']].head()"
      ],
      "metadata": {
        "colab": {
          "base_uri": "https://localhost:8080/",
          "height": 206
        },
        "id": "ie-zMwbD2gqA",
        "outputId": "047d7797-e151-4f9a-be75-8d424fd05ce4"
      },
      "execution_count": 41,
      "outputs": [
        {
          "output_type": "execute_result",
          "data": {
            "text/plain": [
              "                                          Resume_str  \\\n",
              "0           HR ADMINISTRATOR/MARKETING ASSOCIATE\\...   \n",
              "1           HR SPECIALIST, US HR OPERATIONS      ...   \n",
              "2           HR DIRECTOR       Summary      Over 2...   \n",
              "3           HR SPECIALIST       Summary    Dedica...   \n",
              "4           HR MANAGER         Skill Highlights  ...   \n",
              "\n",
              "                                      Cleaned_Resume  \n",
              "0  hr administrator marketing associate hr admini...  \n",
              "1  hr specialist u hr operation summary versatile...  \n",
              "2  hr director summary year experience recruiting...  \n",
              "3  hr specialist summary dedicated driven dynamic...  \n",
              "4  hr manager skill highlight hr skill hr departm...  "
            ],
            "text/html": [
              "\n",
              "  <div id=\"df-6f16b0c7-1c90-4542-a11d-928f4b51d71a\" class=\"colab-df-container\">\n",
              "    <div>\n",
              "<style scoped>\n",
              "    .dataframe tbody tr th:only-of-type {\n",
              "        vertical-align: middle;\n",
              "    }\n",
              "\n",
              "    .dataframe tbody tr th {\n",
              "        vertical-align: top;\n",
              "    }\n",
              "\n",
              "    .dataframe thead th {\n",
              "        text-align: right;\n",
              "    }\n",
              "</style>\n",
              "<table border=\"1\" class=\"dataframe\">\n",
              "  <thead>\n",
              "    <tr style=\"text-align: right;\">\n",
              "      <th></th>\n",
              "      <th>Resume_str</th>\n",
              "      <th>Cleaned_Resume</th>\n",
              "    </tr>\n",
              "  </thead>\n",
              "  <tbody>\n",
              "    <tr>\n",
              "      <th>0</th>\n",
              "      <td>HR ADMINISTRATOR/MARKETING ASSOCIATE\\...</td>\n",
              "      <td>hr administrator marketing associate hr admini...</td>\n",
              "    </tr>\n",
              "    <tr>\n",
              "      <th>1</th>\n",
              "      <td>HR SPECIALIST, US HR OPERATIONS      ...</td>\n",
              "      <td>hr specialist u hr operation summary versatile...</td>\n",
              "    </tr>\n",
              "    <tr>\n",
              "      <th>2</th>\n",
              "      <td>HR DIRECTOR       Summary      Over 2...</td>\n",
              "      <td>hr director summary year experience recruiting...</td>\n",
              "    </tr>\n",
              "    <tr>\n",
              "      <th>3</th>\n",
              "      <td>HR SPECIALIST       Summary    Dedica...</td>\n",
              "      <td>hr specialist summary dedicated driven dynamic...</td>\n",
              "    </tr>\n",
              "    <tr>\n",
              "      <th>4</th>\n",
              "      <td>HR MANAGER         Skill Highlights  ...</td>\n",
              "      <td>hr manager skill highlight hr skill hr departm...</td>\n",
              "    </tr>\n",
              "  </tbody>\n",
              "</table>\n",
              "</div>\n",
              "    <div class=\"colab-df-buttons\">\n",
              "\n",
              "  <div class=\"colab-df-container\">\n",
              "    <button class=\"colab-df-convert\" onclick=\"convertToInteractive('df-6f16b0c7-1c90-4542-a11d-928f4b51d71a')\"\n",
              "            title=\"Convert this dataframe to an interactive table.\"\n",
              "            style=\"display:none;\">\n",
              "\n",
              "  <svg xmlns=\"http://www.w3.org/2000/svg\" height=\"24px\" viewBox=\"0 -960 960 960\">\n",
              "    <path d=\"M120-120v-720h720v720H120Zm60-500h600v-160H180v160Zm220 220h160v-160H400v160Zm0 220h160v-160H400v160ZM180-400h160v-160H180v160Zm440 0h160v-160H620v160ZM180-180h160v-160H180v160Zm440 0h160v-160H620v160Z\"/>\n",
              "  </svg>\n",
              "    </button>\n",
              "\n",
              "  <style>\n",
              "    .colab-df-container {\n",
              "      display:flex;\n",
              "      gap: 12px;\n",
              "    }\n",
              "\n",
              "    .colab-df-convert {\n",
              "      background-color: #E8F0FE;\n",
              "      border: none;\n",
              "      border-radius: 50%;\n",
              "      cursor: pointer;\n",
              "      display: none;\n",
              "      fill: #1967D2;\n",
              "      height: 32px;\n",
              "      padding: 0 0 0 0;\n",
              "      width: 32px;\n",
              "    }\n",
              "\n",
              "    .colab-df-convert:hover {\n",
              "      background-color: #E2EBFA;\n",
              "      box-shadow: 0px 1px 2px rgba(60, 64, 67, 0.3), 0px 1px 3px 1px rgba(60, 64, 67, 0.15);\n",
              "      fill: #174EA6;\n",
              "    }\n",
              "\n",
              "    .colab-df-buttons div {\n",
              "      margin-bottom: 4px;\n",
              "    }\n",
              "\n",
              "    [theme=dark] .colab-df-convert {\n",
              "      background-color: #3B4455;\n",
              "      fill: #D2E3FC;\n",
              "    }\n",
              "\n",
              "    [theme=dark] .colab-df-convert:hover {\n",
              "      background-color: #434B5C;\n",
              "      box-shadow: 0px 1px 3px 1px rgba(0, 0, 0, 0.15);\n",
              "      filter: drop-shadow(0px 1px 2px rgba(0, 0, 0, 0.3));\n",
              "      fill: #FFFFFF;\n",
              "    }\n",
              "  </style>\n",
              "\n",
              "    <script>\n",
              "      const buttonEl =\n",
              "        document.querySelector('#df-6f16b0c7-1c90-4542-a11d-928f4b51d71a button.colab-df-convert');\n",
              "      buttonEl.style.display =\n",
              "        google.colab.kernel.accessAllowed ? 'block' : 'none';\n",
              "\n",
              "      async function convertToInteractive(key) {\n",
              "        const element = document.querySelector('#df-6f16b0c7-1c90-4542-a11d-928f4b51d71a');\n",
              "        const dataTable =\n",
              "          await google.colab.kernel.invokeFunction('convertToInteractive',\n",
              "                                                    [key], {});\n",
              "        if (!dataTable) return;\n",
              "\n",
              "        const docLinkHtml = 'Like what you see? Visit the ' +\n",
              "          '<a target=\"_blank\" href=https://colab.research.google.com/notebooks/data_table.ipynb>data table notebook</a>'\n",
              "          + ' to learn more about interactive tables.';\n",
              "        element.innerHTML = '';\n",
              "        dataTable['output_type'] = 'display_data';\n",
              "        await google.colab.output.renderOutput(dataTable, element);\n",
              "        const docLink = document.createElement('div');\n",
              "        docLink.innerHTML = docLinkHtml;\n",
              "        element.appendChild(docLink);\n",
              "      }\n",
              "    </script>\n",
              "  </div>\n",
              "\n",
              "\n",
              "    <div id=\"df-4b7daebb-34d1-4721-aae8-3b4fb49ae0cb\">\n",
              "      <button class=\"colab-df-quickchart\" onclick=\"quickchart('df-4b7daebb-34d1-4721-aae8-3b4fb49ae0cb')\"\n",
              "                title=\"Suggest charts\"\n",
              "                style=\"display:none;\">\n",
              "\n",
              "<svg xmlns=\"http://www.w3.org/2000/svg\" height=\"24px\"viewBox=\"0 0 24 24\"\n",
              "     width=\"24px\">\n",
              "    <g>\n",
              "        <path d=\"M19 3H5c-1.1 0-2 .9-2 2v14c0 1.1.9 2 2 2h14c1.1 0 2-.9 2-2V5c0-1.1-.9-2-2-2zM9 17H7v-7h2v7zm4 0h-2V7h2v10zm4 0h-2v-4h2v4z\"/>\n",
              "    </g>\n",
              "</svg>\n",
              "      </button>\n",
              "\n",
              "<style>\n",
              "  .colab-df-quickchart {\n",
              "      --bg-color: #E8F0FE;\n",
              "      --fill-color: #1967D2;\n",
              "      --hover-bg-color: #E2EBFA;\n",
              "      --hover-fill-color: #174EA6;\n",
              "      --disabled-fill-color: #AAA;\n",
              "      --disabled-bg-color: #DDD;\n",
              "  }\n",
              "\n",
              "  [theme=dark] .colab-df-quickchart {\n",
              "      --bg-color: #3B4455;\n",
              "      --fill-color: #D2E3FC;\n",
              "      --hover-bg-color: #434B5C;\n",
              "      --hover-fill-color: #FFFFFF;\n",
              "      --disabled-bg-color: #3B4455;\n",
              "      --disabled-fill-color: #666;\n",
              "  }\n",
              "\n",
              "  .colab-df-quickchart {\n",
              "    background-color: var(--bg-color);\n",
              "    border: none;\n",
              "    border-radius: 50%;\n",
              "    cursor: pointer;\n",
              "    display: none;\n",
              "    fill: var(--fill-color);\n",
              "    height: 32px;\n",
              "    padding: 0;\n",
              "    width: 32px;\n",
              "  }\n",
              "\n",
              "  .colab-df-quickchart:hover {\n",
              "    background-color: var(--hover-bg-color);\n",
              "    box-shadow: 0 1px 2px rgba(60, 64, 67, 0.3), 0 1px 3px 1px rgba(60, 64, 67, 0.15);\n",
              "    fill: var(--button-hover-fill-color);\n",
              "  }\n",
              "\n",
              "  .colab-df-quickchart-complete:disabled,\n",
              "  .colab-df-quickchart-complete:disabled:hover {\n",
              "    background-color: var(--disabled-bg-color);\n",
              "    fill: var(--disabled-fill-color);\n",
              "    box-shadow: none;\n",
              "  }\n",
              "\n",
              "  .colab-df-spinner {\n",
              "    border: 2px solid var(--fill-color);\n",
              "    border-color: transparent;\n",
              "    border-bottom-color: var(--fill-color);\n",
              "    animation:\n",
              "      spin 1s steps(1) infinite;\n",
              "  }\n",
              "\n",
              "  @keyframes spin {\n",
              "    0% {\n",
              "      border-color: transparent;\n",
              "      border-bottom-color: var(--fill-color);\n",
              "      border-left-color: var(--fill-color);\n",
              "    }\n",
              "    20% {\n",
              "      border-color: transparent;\n",
              "      border-left-color: var(--fill-color);\n",
              "      border-top-color: var(--fill-color);\n",
              "    }\n",
              "    30% {\n",
              "      border-color: transparent;\n",
              "      border-left-color: var(--fill-color);\n",
              "      border-top-color: var(--fill-color);\n",
              "      border-right-color: var(--fill-color);\n",
              "    }\n",
              "    40% {\n",
              "      border-color: transparent;\n",
              "      border-right-color: var(--fill-color);\n",
              "      border-top-color: var(--fill-color);\n",
              "    }\n",
              "    60% {\n",
              "      border-color: transparent;\n",
              "      border-right-color: var(--fill-color);\n",
              "    }\n",
              "    80% {\n",
              "      border-color: transparent;\n",
              "      border-right-color: var(--fill-color);\n",
              "      border-bottom-color: var(--fill-color);\n",
              "    }\n",
              "    90% {\n",
              "      border-color: transparent;\n",
              "      border-bottom-color: var(--fill-color);\n",
              "    }\n",
              "  }\n",
              "</style>\n",
              "\n",
              "      <script>\n",
              "        async function quickchart(key) {\n",
              "          const quickchartButtonEl =\n",
              "            document.querySelector('#' + key + ' button');\n",
              "          quickchartButtonEl.disabled = true;  // To prevent multiple clicks.\n",
              "          quickchartButtonEl.classList.add('colab-df-spinner');\n",
              "          try {\n",
              "            const charts = await google.colab.kernel.invokeFunction(\n",
              "                'suggestCharts', [key], {});\n",
              "          } catch (error) {\n",
              "            console.error('Error during call to suggestCharts:', error);\n",
              "          }\n",
              "          quickchartButtonEl.classList.remove('colab-df-spinner');\n",
              "          quickchartButtonEl.classList.add('colab-df-quickchart-complete');\n",
              "        }\n",
              "        (() => {\n",
              "          let quickchartButtonEl =\n",
              "            document.querySelector('#df-4b7daebb-34d1-4721-aae8-3b4fb49ae0cb button');\n",
              "          quickchartButtonEl.style.display =\n",
              "            google.colab.kernel.accessAllowed ? 'block' : 'none';\n",
              "        })();\n",
              "      </script>\n",
              "    </div>\n",
              "\n",
              "    </div>\n",
              "  </div>\n"
            ],
            "application/vnd.google.colaboratory.intrinsic+json": {
              "type": "dataframe",
              "summary": "{\n  \"name\": \"df[['Resume_str', 'Cleaned_Resume']]\",\n  \"rows\": 5,\n  \"fields\": [\n    {\n      \"column\": \"Resume_str\",\n      \"properties\": {\n        \"dtype\": \"string\",\n        \"num_unique_values\": 5,\n        \"samples\": [\n          \"         HR SPECIALIST, US HR OPERATIONS       Summary     Versatile  media professional with background in Communications, Marketing, Human Resources and Technology.\\u00a0        Experience     09/2015   to   Current     HR Specialist, US HR Operations    Company Name   \\uff0d   City  ,   State       Managed communication regarding launch of Operations group, policy changes and system outages      Designed standard work and job aids to create comprehensive training program for new employees and contractors         Audited job postings for old, pending, on-hold and draft positions.           Audited union hourly, non-union hourly and salary background checks and drug screens             Conducted monthly new hire benefits briefing to new employees across all business units               Served as a link between HR Managers and vendors by handling questions and resolving system-related issues         Provide real-time process improvement feedback on key metrics and initiatives  Successfully re-branded US HR Operations SharePoint site  Business Unit project manager for RFI/RFP on Background Check and Drug Screen vendor         01/2014   to   05/2015     IT, Marketing and Communications Co-op    Company Name   \\uff0d   City  ,   State      Posted new articles, changes and updates to corporate SharePoint site including graphics and visual communications.  Researched and drafted articles and feature stories to promote company activities and programs.  Co-edited and developed content for quarterly published newsletter.  Provided communication support for internal and external events.  Collaborated with Communication team, media professionals and vendors to determine program needs for print materials, web design and digital communications.  Entrusted to lead product, service and software launches for Digital Asset Management tool, Marketing Toolkit website and Executive Tradeshows Calendar.  Created presentations for management and executive approval to ensure alignment with corporate guidelines and branding.  Maintained the MySikorsky SharePoint site and provided timely solutions to mitigate issues.\\u00a0\\u00a0\\u00a0\\u00a0  Created story board and produced video for annual IT All Hands meeting.         10/2012   to   01/2014     Relationship Coordinator/Marketing Specialist    Company Name   \\uff0d   City  ,   State       Partnered with vendor to manage the in-house advertising program consisting of print and media collateral pieces.     Coordinated pre-show and post-show activities at trade shows.     Managed marketing campaigns to generate new business and to support partner and sales teams.     Ordered marketing collateral for meetings, trade shows and advisors.    Improved, administered and modified marketing programs to increase product awareness.  Assisted in preparing internal promotional publications, managed marketing material inventory and supervised distribution of publications to ensure high quality product output.  Coordinated marketing materials including brochures, promotional materials and products.  Partnered with graphic designers to develop appropriate materials and branding for brochures.  Used tracking and reporting systems for sales leads and appointments.         09/2009   to   10/2012     Assistant Head Teller    Company Name   \\uff0d   City  ,   State       Received an internal audit score of  100 %.     Performed daily and monthly audits of ATM machines and tellers.     Educated customers on a variety of retail products and available credit options.       Consistently met or exceeded quarterly sales goals     Promoted products and services to\\ncustomers while maintaining company brand identity\\n\\n\\u00b7\\u00a0\\u00a0\\u00a0\\u00a0\\n  Implemented programs to achieve\\nand exceed customer and company participation goals\\u00a0\\n\\n\\u00a0  Organized company sponsored events on campus resulting in increased\\nbrand awareness\\n\\n\\u00b7\\u00a0\\u00a0\\u00a0\\u00a0\\n  Coached peers on\\nthe proper use of programs to improve work flow efficiency  Utilized product knowledge to successfully sell\\nto and refer clients based on individual needs  Promoted marketing the grand opening\\nof new branch locations to strengthen company brand affinity\\n\\n\\u00b7\\u00a0\\u00a0\\u00a0\\u00a0   Organized company sponsored events\\nresulting in increased brand awareness and improved sales\\n\\n\\u00b7\\u00a0\\u00a0\\u00a0\\u00a0   Coached peers on the proper use of\\nprograms to increase work flow efficiency\\n\\n          Senior Producer - 2014 SHU Media Exchange    Company Name   \\uff0d   City  ,   State      Planned and executed event\\u00a0focusing on Connecticut's creative corridor, growth of industry and opportunities that come with development. A\\u00a0 panel of industry professionals addressed topics related to media and hosted a question and answer session for approximately 110 attendees. Following the forum, guests were invited to engage in networking and conversation at a post-event reception.         Education     2014     Master of Arts  :   Corporate Communication & Public Relations    Sacred Heart University   \\uff0d   City  ,   State             2013     Bachelor of Arts  :   Relational Communication    Western Connecticut State University   \\uff0d   City  ,   State              Skills    Adobe Photoshop, ADP, Asset Management, branding, brochures, content, Customer Care, Final Cut Pro, graphics, graphic, HR, Illustrator, InDesign, Innovation, inventory, Lotus Notes, marketing, marketing materials, marketing material, materials, Microsoft Office, SharePoint, newsletter, presentations, process improvement, Project Management, promotional materials, publications, Quality, real-time, Recruitment, reporting, RFP, sales, stories, Employee Development, video, web design, website, articles   \",\n          \"         HR MANAGER         Skill Highlights           HR SKILLS  HR Department Startup  Three New Organization Startups  Employment Law  FMLA/ADA/EEO/WC  Mediation & Advocacy  HR Policies & Procedures\\t*Staff Recruitment & Retention  Salary Negotiations  Employee Relations  Benefits Administration  Unemployment Administration  Worker's Compensation Administration  Orientation & On-Boarding  HRIS Technologies  Training & Development  Performance Management  Organizational Development  HR Program/Project Management  HRIS applications (Lawson, Paychex, Kronos, ADP)  MS Office (Word, Excel, PowerPoint, Publisher, Access, Visio, Outlook)                Professional Experience      HR Manager     Jan 2015   to   Current      Company Name   \\uff0d   City  ,   State     Manage the Human Resource function for e-Cycle's corporate office as well as their fulfillment and data center, consisting of benefits and compensation administration, payroll, employee relations, policy compliance, and recruitment.  Key Results: Foster an associate-oriented culture that emphasizes continuous improvement, team- work, high performance and quality.  Ensure organizational conformation with applicable HR related regulations and statutes as well as organizational procedures and policies.  Implement HR programs and policies as needed by the organization.  Identify, evaluate, and resolve human relations, employee morale, work performance, and organizational productivity concerns.  Develop staffing strategies and implement programs and plans to identify and cultivate effective and appropriate sources for employees at all job levels.  Create or assist in the creation of associate training and organizational development programs.  Develop and manage the annual associate review process.  Insure that regional staff is included in corporate activities and feel like they are a part of the team.  Responsible for the human resource management system(s) and provide staff and management with essential reporting information in order to help them in managing their associate resources.  Recruit and retain top quality associates for each department, this includes recruiting nationally and in some cases at an executive level.  Create or assist in the creation of compensation plans.  Employee benefit administration consisting of Health, Dental, Vision, VSTD, VLTD and 401(k).  Successful in reducing the health benefit expected increase from 46% to 5% during my first month with the organization.         Sr. HR Manager     Jan 2013   to   Jan 2015      Company Name   \\uff0d   City  ,   State     As a leader within the HR and Operations team, I was instrumental in partnering with local leadership and Corporate HR to develop and implement HR policies, processes, technology and services that are aligned to support our company's strategic initiatives in order to have a successful start-up.  Key Results: Coordinated efforts to recruit and hire over 220 full time hourly associates and 27 management level employees while converting agency staff to full time.  Instrumental in managing and creating the set up of the HR business office, which included development of personnel files, new hire practices, payroll, and HR reporting.  Manage, by providing direction and development to HR, and develop the HR delivery as business continued to grow.  Strategic business partner to the Site Director, as well as other operations leaders, in support of start-up operations, day-to-day operations, and peak season planning, staffing and operations.  Worked successfully with local temporary agencies in order to staff to our Peak volume, which consisted of over 1800 total associates delivering over 3 million units from Black Friday to Christmas.  Influence HR strategy and execute tactical direction for the facility within the overall HR strategy.  Ensure internal consistency of HR policies and procedures across multiple locations.  Interact with the Corporate HR team for exempt staffing, compensation and benefits, and other functional groups in order to support Operations.  Maintain knowledge of HR policies and procedures, laws and regulations, industry trends and developments to ensure accurate information is being communicated throughout the company.  Develop a work environment that demonstrates Fanatics core values.  Provide strategic direction on leadership development and workforce planning initiatives within the fulfillment center.  Coach senior business leaders and front line supervisors on HR polices, procedures, and best practices in dealing with employee relation issues, such as, poor performance, attendance, and behavior and conduct issues.  Championed a fun, friendly and approachable HR team of professionals.  Ensure integrity, maintenance and confidentiality of all personnel records in accordance with policies and procedures and applicable Federal and State laws.  Improve HR service delivery in line with overall business performance expectations.  Look for ways to innovate systems for HR delivery (People, process & technology).  Manage the HR function with measurable objectives, and communicate the bottom line impact of HR delivery to the business.         HR Director     Jan 2008   to   Jan 2012      Company Name   \\uff0d   City  ,   State     As a member of the executive team, I was directly and solely responsible for providing situation appropriate and policy compliant human resource support for 2 separate business units for a community based, non-profit, health care organization with approximately 184 employees.  Key Results: Played a key role in ensuring the successful merge of five separate private physician practices into one Non-Profit organization.  Structured and implemented programs and policies in the areas of compensation structures, benefits packages, incentive compensation plans and physician employment contracts.  Fostered a teamwork/open-door environment conducive to positive dialogue across the organization with an 85% overall employee satisfaction rating.  Responsible for maintaining staffing levels for all positions within the health center which consisted of full time, part time and on-call staff.  Negotiated more than 100 salary offers at both the exempt and nonexempt level.  Successful recruitment of Physicians, CEO, COO, CFO, CMO and various managers.  Wrote employee manual covering issues including disciplinary procedures, code of conduct, FMLA, attendance policies and benefits information.  Implemented employee satisfaction surveys and presented results to Board of directors.  Introduced company's first formal performance review program.  Developed job descriptions across all levels and categories.  Shadowed\\\" and interviewed employees to construct an accurate picture of the duties and skills required for each position.         HR Representative     Jan 2001   to   Jan 2007      Company Name   \\uff0d   City  ,   State     Nation's largest small-box discount retailer.  Fulfilled a broad range of HR Generalist functions, including recruiting, administering benefits, overseeing disciplinary action and managing HR support staff.  Key Results: Trained management team on interviewing techniques and best practices, conducted workshops and one-on-one coaching sessions that contributed to sound hiring decisions.  Instrumental in the start-up of the new 1.2 million sq.  ft.  state of the art distribution center.  Hiring over 400 plus employees within the first year that consisted of part time, full time and temporary staff.  Overseen morale-boosting programs (including special events, annual employee picnic, attendance and safety banquets, etc.  that increased employee satisfaction and productivity.  Investigated all employee relation issues, such as sexual harassment, discrimination, and inappropriate conduct by either hourly employees and or management staff.  Responsible for staffing all hourly positions, which consisted of maintaining 878 hourly employees among three shifts.         Education      Bachelor of Business Administration      MOUNT VERNON NAZARENE UNIVERSITY   \\uff0d   City  ,   State            Professional Affiliations    Society for Human Resource Management (SHRM)\\n*Muskingum Valley Human Resource Management Association      Skills    ADA, ADP, art, agency, benefits, Benefits Administration, Coach, coaching, conflict resolution, continuous improvement, contracts, decision making, delivery, direction, Employee Relations, special events, financial, functional, Hiring, HRIS, human resource management, Human Resource, Human Resources, HR, human relations, Kronos, Lawson, leadership, leadership development, Law, legal compliance, Director, managing, management reporting, Mediation, Access, Excel, MS Office, office, Outlook, PowerPoint, Publisher, win, Word, negotiating, Negotiations, Organizational Development, organizational, payroll, Peak, Performance Management, personnel, Policies, problem solving, processes, Profit, implement programs, Project Management, quality, quantitative analysis, Recruitment, recruiting, reporting, safety, sound, staff development, staffing, strategy, Strategic, Structured, surveys, team- work, teamwork, Visio, Vision, workshops   \",\n          \"         HR DIRECTOR       Summary      Over 20 years experience in recruiting,   15 plus years in Human Resources Executive Management,   5 years of HRIS development and maintenance  4 years working in a Healthcare Enviroment        Skills          Recruiting  FMLA/EEO/FLSA\\u00a0  HRIS Development      Benefit Administration  Policy Development  Web Page Development\\u00a0            Accomplishments      Kansas Health Institute -Health Outcomes for the State of Kansas -1999 \\nMemberships and Accolades: Project Management Institute Member, SHRM, Chamber of Commerce, 1999 Friends University President's Honor Roll, 1997 Friends University Dean's Honor Roll, Student Liaison for Friends University Topeka (member of Mother-To-Mother, member of the Topeka \\nAdvertising Federation, several production pieces created nominated for ADDY Awards, received recognition for outstanding customer service assistance by the State of Kansas Travel and Tourism Department., ASHHRA, KAHHR, ACM.  Additional Information: \\nLeading Change -I have been instrumental in development and implementation of the Adjutant General's Retention Research project, involving survey development and analyzing the results of the surveys to present to the Adjutant General to help retain the qualified talent of the Departments.  I have been tasked with working with the Federal Security Manager for the Joint Forces Headquarters in developing policies, procedures and processes to ensure that all current and new State Employees have the appropriate security clearances for the position held per the Federal Government Requirements.  While at LMIS, I lead the Job Vacancy Project and was able to produce results in less time and man hours than in years before with staff that were inexperienced in the JVC process and procedures.  I have been responsible to develop, plan and implement database programs, for the last three positions I have held.  These were designed to cultivate, involve, renew contact, and promote active and potential employees.  These databases were used for reporting FTE usage, budget management and turnover reports.  While working in the healthcare field, I took the initiative in creating a local website that was used to receive and respond to requests for information and assistance in marketing and promoting the healthcare facility along with recruitment of potential employees.  As Human Resource Coordinator in the healthcare field, I managed the front office personnel, reduced contract labor costs for nursing staff and implemented a unique pay structure to increase PRN staff utilization.  I continually think \\\"Outside-the-box\\\" to create and develop strategies to resolve issues faced in my work environment.  In my current position, I have met and exceeded all hiring goals for the firm.  This resulted in our client increasing the business transferred to our location.        Experience      HR Director   09/2016   to   Current     Company Name   City  ,   State       Developed New Website for Agency, payroll processing changes, and implementation of\\nnew HRIS System.   Oversaw the employment process taking the lead role in clinician, physician and management\\nteam recruitment initiatives.\\n\\n  Developed, maintain\\nand interpret HR policy. Authored the Employee Handbook.\\n\\nProvided coaching\\nand support to management and supervisors on performance management and other\\nrelated issues. \\n\\n  Maintained in-depth\\nknowledge of legal requirements related to day-to-day management of employees,\\nreducing legal risks and ensuring regulatory compliance.   Evaluated and\\nrecommend changes to the employee benefits plan. Oversaw day to day\\nadministration of benefits.\\u00a0           HR Director   04/2009   to   09/2016     Company Name   City  ,   State       Develped Supervisory Education, SHRO Website, SHRO HRIS System and Automation of payroll processing.  Established and directed a comprehensive statewide human resource program for both classified and unclassified State employees/positions in the Adjutant General's Department.  Resolved non-routine HR related issues associated as they arose; reviewed documents and approved all hires and promotions; reviews and approved, modified and/or disapproved wage/salary requests to hire individuals above the pre-established minimum classified or unclassified pay rate,  \\u00a0Reviewed any significant changes to position descriptions and determined if reclassification should be pursued; reviewed position descriptions for new positions and determined the appropriate wage range based on comparable classified position (if they exist),   Consulted with the TAG and both military and state manager/ supervisors in order to provide technical and common sense guidance on properly addressing sensitive or complex employee and organizational issues; aided them in achieving their ever changing program goals and provided innovative ideas for staffing;             Served as the administration's management representative in labor negotiations with the local KAPE unit at the 190th Fire Department.          HR Manager/Sr. Recruiter   10/2003   to   06/2006     Company Name   City  ,   State       Created an HRIS tracking system used for recruitment.  Responsible for Ramp up and hiring of all customer service agents, and other positions as needed.  Placement and development of all advertising \\nMet and exceeded all hiring goals. Responsible for Hiring Senior Management to cover such duties as: Team Managers, Payroll, Quality Control.  Responsible for recruitment of 950 new employees, meeting and exceeded goals set.  Coordinated and facilitated manpower planning, recruitment and retention, career development and training, staff relations, compensation and benefits, compliance with local, state and federal statutory regulations, public programs, and regulatory audit procedures.  Served as a resource person to administration, mid-level management and staff regarding HR related.          Human Resources Coordinator   03/1996   to   02/2000     Company Name   City  ,   State       Developed HRIS database from ground up for employee records and monitoring.  Instrumental in reducing the use of Agency Staffing needs for hospital.  Coordinated and facilitates manpower planning, recruitment and retention, career development and training, staff relations, compensation and benefits, compliance with local, state and federal statutory regulations, public programs, and regulatory audit procedures.  Served as the HR resource source for administration, mid-level management and staff.  Coordinated hiring procedures, appraisals, pay increases, promotions, transfers, terminations, job postings, and all corrective actions;  One Person Office, responsible for all OSHA, Work Comp, Benefits, payroll, etc.          Education and Training      Master's Degree  :   Information Management Systems   05/2005       Friends University   City  ,   State  ,   United States     3.5 Credits Earned: 62 Semester hours Information Management Systems        Bachelor of Science  :   Organizational Management   05/2000       Friends University   City  ,   State  ,   United States      4.0 Credits Earned: 62 Semester hours             Activities and Honors    Topeka Chamber of Commerce -Ambassador \\nKansas Hospital Association -Health Care Human Resources Member \\nSHRM -Legislative Liaison      Skills      Desktop Publishing,\\u00a0  Newsletter productions,   DATABASE Management,   Leadership \\n\\nTraining,  OSHA, FMLA, \\n\\nWorkers Compensation.   PageMaker,   Agency Automation, back-up,   Benefits,  Budget management,  Corel Suite,   Harvard Graphics,  Access, Excel, Microsoft Publisher, MS Word,\\u00a0   Quark Express, Quattro Pro,   Strategic Planning,\\u00a0   Web page development,   WordPerfect     \"\n        ],\n        \"semantic_type\": \"\",\n        \"description\": \"\"\n      }\n    },\n    {\n      \"column\": \"Cleaned_Resume\",\n      \"properties\": {\n        \"dtype\": \"string\",\n        \"num_unique_values\": 5,\n        \"samples\": [\n          \"hr specialist u hr operation summary versatile medium professional background communication marketing human resource technology experience current hr specialist u hr operation company name city state managed communication regarding launch operation group policy change system outage designed standard work job aid create comprehensive training program new employee contractor audited job posting old pending hold draft position audited union hourly non union hourly salary background check drug screen conducted monthly new hire benefit briefing new employee across business unit served link hr manager vendor handling question resolving system related issue provide real time process improvement feedback key metric initiative successfully branded u hr operation sharepoint site business unit project manager rfi rfp background check drug screen vendor marketing communication co op company name city state posted new article change update corporate sharepoint site including graphic visual communication researched drafted article feature story promote company activity program co edited developed content quarterly published newsletter provided communication support internal external event collaborated communication team medium professional vendor determine program need print material web design digital communication entrusted lead product service software launch digital asset management tool marketing toolkit website executive tradeshows calendar created presentation management executive approval ensure alignment corporate guideline branding maintained mysikorsky sharepoint site provided timely solution mitigate issue created story board produced video annual hand meeting relationship coordinator marketing specialist company name city state partnered vendor manage house advertising program consisting print medium collateral piece coordinated pre show post show activity trade show managed marketing campaign generate new business support partner sale team ordered marketing collateral meeting trade show advisor improved administered modified marketing program increase product awareness assisted preparing internal promotional publication managed marketing material inventory supervised distribution publication ensure high quality product output coordinated marketing material including brochure promotional material product partnered graphic designer develop appropriate material branding brochure used tracking reporting system sale lead appointment assistant head teller company name city state received internal audit score performed daily monthly audit atm machine teller educated customer variety retail product available credit option consistently met exceeded quarterly sale goal promoted product service customer maintaining company brand identity implemented program achieve exceed customer company participation goal organized company sponsored event campus resulting increased brand awareness coached peer proper use program improve work flow efficiency utilized product knowledge successfully sell refer client based individual need promoted marketing grand opening new branch location strengthen company brand affinity organized company sponsored event resulting increased brand awareness improved sale coached peer proper use program increase work flow efficiency senior producer shu medium exchange company name city state planned executed event focusing connecticut creative corridor growth industry opportunity come development panel industry professional addressed topic related medium hosted question answer session approximately attendee following forum guest invited engage networking conversation post event reception education master art corporate communication public relation sacred heart university city state bachelor art relational communication western connecticut state university city state skill adobe photoshop adp asset management branding brochure content customer care final cut pro graphic graphic hr illustrator indesign innovation inventory lotus note marketing marketing material marketing material material microsoft office sharepoint newsletter presentation process improvement project management promotional material publication quality real time recruitment reporting rfp sale story employee development video web design website article\",\n          \"hr manager skill highlight hr skill hr department startup three new organization startup employment law fmla ada eeo wc mediation advocacy hr policy procedure staff recruitment retention salary negotiation employee relation benefit administration unemployment administration worker compensation administration orientation boarding hris technology training development performance management organizational development hr program project management hris application lawson paychex kronos adp m office word excel powerpoint publisher access visio outlook professional experience hr manager jan current company name city state manage human resource function e cycle corporate office well fulfillment data center consisting benefit compensation administration payroll employee relation policy compliance recruitment key result foster associate oriented culture emphasizes continuous improvement team work high performance quality ensure organizational conformation applicable hr related regulation statute well organizational procedure policy implement hr program policy needed organization identify evaluate resolve human relation employee morale work performance organizational productivity concern develop staffing strategy implement program plan identify cultivate effective appropriate source employee job level create assist creation associate training organizational development program develop manage annual associate review process insure regional staff included corporate activity feel like part team responsible human resource management system provide staff management essential reporting information order help managing associate resource recruit retain top quality associate department includes recruiting nationally case executive level create assist creation compensation plan employee benefit administration consisting health dental vision vstd vltd k successful reducing health benefit expected increase first month organization sr hr manager jan jan company name city state leader within hr operation team instrumental partnering local leadership corporate hr develop implement hr policy process technology service aligned support company strategic initiative order successful start key result coordinated effort recruit hire full time hourly associate management level employee converting agency staff full time instrumental managing creating set hr business office included development personnel file new hire practice payroll hr reporting manage providing direction development hr develop hr delivery business continued grow strategic business partner site director well operation leader support start operation day day operation peak season planning staffing operation worked successfully local temporary agency order staff peak volume consisted total associate delivering million unit black friday christmas influence hr strategy execute tactical direction facility within overall hr strategy ensure internal consistency hr policy procedure across multiple location interact corporate hr team exempt staffing compensation benefit functional group order support operation maintain knowledge hr policy procedure law regulation industry trend development ensure accurate information communicated throughout company develop work environment demonstrates fanatic core value provide strategic direction leadership development workforce planning initiative within fulfillment center coach senior business leader front line supervisor hr police procedure best practice dealing employee relation issue poor performance attendance behavior conduct issue championed fun friendly approachable hr team professional ensure integrity maintenance confidentiality personnel record accordance policy procedure applicable federal state law improve hr service delivery line overall business performance expectation look way innovate system hr delivery people process technology manage hr function measurable objective communicate bottom line impact hr delivery business hr director jan jan company name city state member executive team directly solely responsible providing situation appropriate policy compliant human resource support separate business unit community based non profit health care organization approximately employee key result played key role ensuring successful merge five separate private physician practice one non profit organization structured implemented program policy area compensation structure benefit package incentive compensation plan physician employment contract fostered teamwork open door environment conducive positive dialogue across organization overall employee satisfaction rating responsible maintaining staffing level position within health center consisted full time part time call staff negotiated salary offer exempt nonexempt level successful recruitment physician ceo coo cfo cmo various manager wrote employee manual covering issue including disciplinary procedure code conduct fmla attendance policy benefit information implemented employee satisfaction survey presented result board director introduced company first formal performance review program developed job description across level category shadowed interviewed employee construct accurate picture duty skill required position hr representative jan jan company name city state nation largest small box discount retailer fulfilled broad range hr generalist function including recruiting administering benefit overseeing disciplinary action managing hr support staff key result trained management team interviewing technique best practice conducted workshop one one coaching session contributed sound hiring decision instrumental start new million sq ft state art distribution center hiring plus employee within first year consisted part time full time temporary staff overseen morale boosting program including special event annual employee picnic attendance safety banquet etc increased employee satisfaction productivity investigated employee relation issue sexual harassment discrimination inappropriate conduct either hourly employee management staff responsible staffing hourly position consisted maintaining hourly employee among three shift education bachelor business administration mount vernon nazarene university city state professional affiliation society human resource management shrm muskingum valley human resource management association skill ada adp art agency benefit benefit administration coach coaching conflict resolution continuous improvement contract decision making delivery direction employee relation special event financial functional hiring hris human resource management human resource human resource hr human relation kronos lawson leadership leadership development law legal compliance director managing management reporting mediation access excel m office office outlook powerpoint publisher win word negotiating negotiation organizational development organizational payroll peak performance management personnel policy problem solving process profit implement program project management quality quantitative analysis recruitment recruiting reporting safety sound staff development staffing strategy strategic structured survey team work teamwork visio vision workshop\",\n          \"hr director summary year experience recruiting plus year human resource executive management year hris development maintenance year working healthcare enviroment skill recruiting fmla eeo flsa hris development benefit administration policy development web page development accomplishment kansa health institute health outcome state kansa membership accolade project management institute member shrm chamber commerce friend university president honor roll friend university dean honor roll student liaison friend university topeka member mother mother member topeka advertising federation several production piece created nominated addy award received recognition outstanding customer service assistance state kansa travel tourism department ashhra kahhr acm additional information leading change instrumental development implementation adjutant general retention research project involving survey development analyzing result survey present adjutant general help retain qualified talent department tasked working federal security manager joint force headquarters developing policy procedure process ensure current new state employee appropriate security clearance position held per federal government requirement lmis lead job vacancy project able produce result less time man hour year staff inexperienced jvc process procedure responsible develop plan implement database program last three position held designed cultivate involve renew contact promote active potential employee database used reporting fte usage budget management turnover report working healthcare field took initiative creating local website used receive respond request information assistance marketing promoting healthcare facility along recruitment potential employee human resource coordinator healthcare field managed front office personnel reduced contract labor cost nursing staff implemented unique pay structure increase prn staff utilization continually think outside box create develop strategy resolve issue faced work environment current position met exceeded hiring goal firm resulted client increasing business transferred location experience hr director current company name city state developed new website agency payroll processing change implementation new hris system oversaw employment process taking lead role clinician physician management team recruitment initiative developed maintain interpret hr policy authored employee handbook provided coaching support management supervisor performance management related issue maintained depth knowledge legal requirement related day day management employee reducing legal risk ensuring regulatory compliance evaluated recommend change employee benefit plan oversaw day day administration benefit hr director company name city state develped supervisory education shro website shro hris system automation payroll processing established directed comprehensive statewide human resource program classified unclassified state employee position adjutant general department resolved non routine hr related issue associated arose reviewed document approved hire promotion review approved modified disapproved wage salary request hire individual pre established minimum classified unclassified pay rate reviewed significant change position description determined reclassification pursued reviewed position description new position determined appropriate wage range based comparable classified position exist consulted tag military state manager supervisor order provide technical common sense guidance properly addressing sensitive complex employee organizational issue aided achieving ever changing program goal provided innovative idea staffing served administration management representative labor negotiation local kape unit th fire department hr manager sr recruiter company name city state created hris tracking system used recruitment responsible ramp hiring customer service agent position needed placement development advertising met exceeded hiring goal responsible hiring senior management cover duty team manager payroll quality control responsible recruitment new employee meeting exceeded goal set coordinated facilitated manpower planning recruitment retention career development training staff relation compensation benefit compliance local state federal statutory regulation public program regulatory audit procedure served resource person administration mid level management staff regarding hr related human resource coordinator company name city state developed hris database ground employee record monitoring instrumental reducing use agency staffing need hospital coordinated facilitates manpower planning recruitment retention career development training staff relation compensation benefit compliance local state federal statutory regulation public program regulatory audit procedure served hr resource source administration mid level management staff coordinated hiring procedure appraisal pay increase promotion transfer termination job posting corrective action one person office responsible osha work comp benefit payroll etc education training master degree information management system friend university city state united state credit earned semester hour information management system bachelor science organizational management friend university city state united state credit earned semester hour activity honor topeka chamber commerce ambassador kansa hospital association health care human resource member shrm legislative liaison skill desktop publishing newsletter production database management leadership training osha fmla worker compensation pagemaker agency automation back benefit budget management corel suite harvard graphic access excel microsoft publisher m word quark express quattro pro strategic planning web page development wordperfect\"\n        ],\n        \"semantic_type\": \"\",\n        \"description\": \"\"\n      }\n    }\n  ]\n}"
            }
          },
          "metadata": {},
          "execution_count": 41
        }
      ]
    },
    {
      "cell_type": "markdown",
      "source": [
        "Phase 3: Feature Extraction"
      ],
      "metadata": {
        "id": "Q73I807X6W_K"
      }
    },
    {
      "cell_type": "code",
      "source": [
        "#Import library\n",
        "from sklearn.feature_extraction.text import TfidfVectorizer\n",
        "\n",
        "#Create TF-IDF Vectorizer\n",
        "tfidf = TfidfVectorizer(\n",
        "    sublinear_tf=True,\n",
        "    stop_words='english',\n",
        "    max_features=8000,\n",
        "    ngram_range=(1,2)\n",
        ")"
      ],
      "metadata": {
        "id": "R4dFVZGq25AA"
      },
      "execution_count": 42,
      "outputs": []
    },
    {
      "cell_type": "code",
      "source": [
        "#Fit and transform the cleaned resumes\n",
        "X = tfidf.fit_transform(df['Cleaned_Resume']).toarray()\n",
        "\n",
        "#Store the target labels\n",
        "y = df['Category']"
      ],
      "metadata": {
        "id": "70eMTjsq9e5a"
      },
      "execution_count": 43,
      "outputs": []
    },
    {
      "cell_type": "code",
      "source": [
        "#Check the shape\n",
        "print(\"Feature matrix shape:\", X.shape)\n",
        "print(\"Number of categories:\", len(y.unique()))"
      ],
      "metadata": {
        "colab": {
          "base_uri": "https://localhost:8080/"
        },
        "id": "Md9nm1Ue9gvC",
        "outputId": "00fd2980-ca0d-474f-a6e8-ee66035a5614"
      },
      "execution_count": 44,
      "outputs": [
        {
          "output_type": "stream",
          "name": "stdout",
          "text": [
            "Feature matrix shape: (2484, 8000)\n",
            "Number of categories: 24\n"
          ]
        }
      ]
    },
    {
      "cell_type": "markdown",
      "source": [
        "Phase 4: Splitting the Data"
      ],
      "metadata": {
        "id": "TLZGh29t9X4S"
      }
    },
    {
      "cell_type": "code",
      "source": [
        "#Import function\n",
        "from sklearn.model_selection import train_test_split\n",
        "\n",
        "#Split the data into training and testing sets\n",
        "X_train, X_test, y_train, y_test = train_test_split(X, y, test_size=0.2, random_state=42, stratify=y)"
      ],
      "metadata": {
        "id": "-_XVxOiD9FZq"
      },
      "execution_count": 45,
      "outputs": []
    },
    {
      "cell_type": "code",
      "source": [
        "#Check the size\n",
        "print(\"Training data shape:\", X_train.shape)\n",
        "print(\"Testing data shape:\", X_test.shape)\n",
        "print(\"Training labels:\", y_train.shape)\n",
        "print(\"Testing labels:\", y_test.shape)"
      ],
      "metadata": {
        "colab": {
          "base_uri": "https://localhost:8080/"
        },
        "id": "BMr6v4qC9_si",
        "outputId": "81c3a4bd-9ea6-4d1f-c1fc-f6463e3eed76"
      },
      "execution_count": 46,
      "outputs": [
        {
          "output_type": "stream",
          "name": "stdout",
          "text": [
            "Training data shape: (1987, 8000)\n",
            "Testing data shape: (497, 8000)\n",
            "Training labels: (1987,)\n",
            "Testing labels: (497,)\n"
          ]
        }
      ]
    },
    {
      "cell_type": "markdown",
      "source": [
        "Phase 5: Model Training"
      ],
      "metadata": {
        "id": "946U6d0O_GVq"
      }
    },
    {
      "cell_type": "code",
      "source": [
        "#Import model and evaluation tools\n",
        "from sklearn.linear_model import LogisticRegression\n",
        "from sklearn.metrics import accuracy_score, classification_report, confusion_matrix\n",
        "\n",
        "#Create the model\n",
        "model = LogisticRegression(max_iter=1000)"
      ],
      "metadata": {
        "id": "R0jj1mY8-Em5"
      },
      "execution_count": 47,
      "outputs": []
    },
    {
      "cell_type": "code",
      "source": [
        "#Train the model\n",
        "model.fit(X_train, y_train)\n",
        "\n",
        "#Make predictions\n",
        "y_pred = model.predict(X_test)"
      ],
      "metadata": {
        "id": "pSsa9Qvh-7Qa"
      },
      "execution_count": 48,
      "outputs": []
    },
    {
      "cell_type": "code",
      "source": [
        "#Evaluate performance\n",
        "print(\"Model Evaluation Results:\")\n",
        "print(\"----------------------------\")\n",
        "print(\"Accuracy:\", accuracy_score(y_test, y_pred))\n",
        "print(\"\\nClassification Report:\\n\", classification_report(y_test, y_pred))"
      ],
      "metadata": {
        "colab": {
          "base_uri": "https://localhost:8080/"
        },
        "id": "waZVockA_6Ty",
        "outputId": "0025bcc5-adfb-40b1-e8f8-eb23247e2000"
      },
      "execution_count": 49,
      "outputs": [
        {
          "output_type": "stream",
          "name": "stdout",
          "text": [
            "Model Evaluation Results:\n",
            "----------------------------\n",
            "Accuracy: 0.6639839034205232\n",
            "\n",
            "Classification Report:\n",
            "                         precision    recall  f1-score   support\n",
            "\n",
            "            ACCOUNTANT       0.69      0.83      0.75        24\n",
            "              ADVOCATE       0.41      0.54      0.46        24\n",
            "           AGRICULTURE       1.00      0.31      0.47        13\n",
            "               APPAREL       0.80      0.21      0.33        19\n",
            "                  ARTS       0.50      0.24      0.32        21\n",
            "            AUTOMOBILE       0.00      0.00      0.00         7\n",
            "              AVIATION       0.86      0.75      0.80        24\n",
            "               BANKING       0.89      0.70      0.78        23\n",
            "                   BPO       0.00      0.00      0.00         4\n",
            "  BUSINESS-DEVELOPMENT       0.55      0.88      0.68        24\n",
            "                  CHEF       0.86      0.75      0.80        24\n",
            "          CONSTRUCTION       0.75      0.82      0.78        22\n",
            "            CONSULTANT       0.56      0.22      0.31        23\n",
            "              DESIGNER       0.80      0.76      0.78        21\n",
            "         DIGITAL-MEDIA       0.77      0.53      0.62        19\n",
            "           ENGINEERING       0.75      0.75      0.75        24\n",
            "               FINANCE       0.82      0.75      0.78        24\n",
            "               FITNESS       0.76      0.70      0.73        23\n",
            "            HEALTHCARE       0.59      0.70      0.64        23\n",
            "                    HR       0.77      0.91      0.83        22\n",
            "INFORMATION-TECHNOLOGY       0.71      1.00      0.83        24\n",
            "      PUBLIC-RELATIONS       0.50      0.77      0.61        22\n",
            "                 SALES       0.44      0.65      0.53        23\n",
            "               TEACHER       0.58      0.90      0.71        20\n",
            "\n",
            "              accuracy                           0.66       497\n",
            "             macro avg       0.64      0.61      0.60       497\n",
            "          weighted avg       0.68      0.66      0.64       497\n",
            "\n"
          ]
        },
        {
          "output_type": "stream",
          "name": "stderr",
          "text": [
            "/usr/local/lib/python3.12/dist-packages/sklearn/metrics/_classification.py:1565: UndefinedMetricWarning: Precision is ill-defined and being set to 0.0 in labels with no predicted samples. Use `zero_division` parameter to control this behavior.\n",
            "  _warn_prf(average, modifier, f\"{metric.capitalize()} is\", len(result))\n",
            "/usr/local/lib/python3.12/dist-packages/sklearn/metrics/_classification.py:1565: UndefinedMetricWarning: Precision is ill-defined and being set to 0.0 in labels with no predicted samples. Use `zero_division` parameter to control this behavior.\n",
            "  _warn_prf(average, modifier, f\"{metric.capitalize()} is\", len(result))\n",
            "/usr/local/lib/python3.12/dist-packages/sklearn/metrics/_classification.py:1565: UndefinedMetricWarning: Precision is ill-defined and being set to 0.0 in labels with no predicted samples. Use `zero_division` parameter to control this behavior.\n",
            "  _warn_prf(average, modifier, f\"{metric.capitalize()} is\", len(result))\n"
          ]
        }
      ]
    },
    {
      "cell_type": "code",
      "source": [
        "from sklearn.svm import LinearSVC\n",
        "svm_model = LinearSVC()\n",
        "svm_model.fit(X_train, y_train)\n",
        "y_pred = svm_model.predict(X_test)\n",
        "\n",
        "print(\"Accuracy:\", accuracy_score(y_test, y_pred))\n",
        "print(classification_report(y_test, y_pred))"
      ],
      "metadata": {
        "colab": {
          "base_uri": "https://localhost:8080/"
        },
        "id": "nCCWrhRs__P6",
        "outputId": "7b1f2f56-eb8f-4013-ee46-3973f84a665d"
      },
      "execution_count": 50,
      "outputs": [
        {
          "output_type": "stream",
          "name": "stdout",
          "text": [
            "Accuracy: 0.7364185110663984\n",
            "                        precision    recall  f1-score   support\n",
            "\n",
            "            ACCOUNTANT       0.76      0.92      0.83        24\n",
            "              ADVOCATE       0.65      0.71      0.68        24\n",
            "           AGRICULTURE       0.90      0.69      0.78        13\n",
            "               APPAREL       0.70      0.37      0.48        19\n",
            "                  ARTS       0.73      0.38      0.50        21\n",
            "            AUTOMOBILE       1.00      0.29      0.44         7\n",
            "              AVIATION       0.86      0.79      0.83        24\n",
            "               BANKING       0.79      0.83      0.81        23\n",
            "                   BPO       0.00      0.00      0.00         4\n",
            "  BUSINESS-DEVELOPMENT       0.70      0.88      0.78        24\n",
            "                  CHEF       0.85      0.71      0.77        24\n",
            "          CONSTRUCTION       0.75      0.82      0.78        22\n",
            "            CONSULTANT       0.83      0.43      0.57        23\n",
            "              DESIGNER       0.86      0.90      0.88        21\n",
            "         DIGITAL-MEDIA       0.73      0.58      0.65        19\n",
            "           ENGINEERING       0.70      0.79      0.75        24\n",
            "               FINANCE       0.86      0.75      0.80        24\n",
            "               FITNESS       0.83      0.83      0.83        23\n",
            "            HEALTHCARE       0.68      0.74      0.71        23\n",
            "                    HR       0.84      0.95      0.89        22\n",
            "INFORMATION-TECHNOLOGY       0.83      1.00      0.91        24\n",
            "      PUBLIC-RELATIONS       0.57      0.77      0.65        22\n",
            "                 SALES       0.48      0.65      0.56        23\n",
            "               TEACHER       0.63      0.85      0.72        20\n",
            "\n",
            "              accuracy                           0.74       497\n",
            "             macro avg       0.73      0.69      0.69       497\n",
            "          weighted avg       0.75      0.74      0.73       497\n",
            "\n"
          ]
        }
      ]
    },
    {
      "cell_type": "markdown",
      "source": [
        "Phase 6: Improve Model Accuracy"
      ],
      "metadata": {
        "id": "ck2Y6xvSBNY8"
      }
    },
    {
      "cell_type": "code",
      "source": [
        "svm_tuned = LinearSVC(C=1.0, penalty='l2', max_iter=2000)\n",
        "svm_tuned.fit(X_train, y_train)\n",
        "y_pred = svm_tuned.predict(X_test)\n",
        "\n",
        "print(\"Improved Accuracy:\", accuracy_score(y_test, y_pred))\n",
        "print(classification_report(y_test, y_pred))"
      ],
      "metadata": {
        "colab": {
          "base_uri": "https://localhost:8080/"
        },
        "id": "tXdv1fmaA3Iy",
        "outputId": "bb5f3803-7bac-48d2-c0e3-2552e030ee43"
      },
      "execution_count": 51,
      "outputs": [
        {
          "output_type": "stream",
          "name": "stdout",
          "text": [
            "Improved Accuracy: 0.7364185110663984\n",
            "                        precision    recall  f1-score   support\n",
            "\n",
            "            ACCOUNTANT       0.76      0.92      0.83        24\n",
            "              ADVOCATE       0.65      0.71      0.68        24\n",
            "           AGRICULTURE       0.90      0.69      0.78        13\n",
            "               APPAREL       0.70      0.37      0.48        19\n",
            "                  ARTS       0.73      0.38      0.50        21\n",
            "            AUTOMOBILE       1.00      0.29      0.44         7\n",
            "              AVIATION       0.86      0.79      0.83        24\n",
            "               BANKING       0.79      0.83      0.81        23\n",
            "                   BPO       0.00      0.00      0.00         4\n",
            "  BUSINESS-DEVELOPMENT       0.70      0.88      0.78        24\n",
            "                  CHEF       0.85      0.71      0.77        24\n",
            "          CONSTRUCTION       0.75      0.82      0.78        22\n",
            "            CONSULTANT       0.83      0.43      0.57        23\n",
            "              DESIGNER       0.86      0.90      0.88        21\n",
            "         DIGITAL-MEDIA       0.73      0.58      0.65        19\n",
            "           ENGINEERING       0.70      0.79      0.75        24\n",
            "               FINANCE       0.86      0.75      0.80        24\n",
            "               FITNESS       0.83      0.83      0.83        23\n",
            "            HEALTHCARE       0.68      0.74      0.71        23\n",
            "                    HR       0.84      0.95      0.89        22\n",
            "INFORMATION-TECHNOLOGY       0.83      1.00      0.91        24\n",
            "      PUBLIC-RELATIONS       0.57      0.77      0.65        22\n",
            "                 SALES       0.48      0.65      0.56        23\n",
            "               TEACHER       0.63      0.85      0.72        20\n",
            "\n",
            "              accuracy                           0.74       497\n",
            "             macro avg       0.73      0.69      0.69       497\n",
            "          weighted avg       0.75      0.74      0.73       497\n",
            "\n"
          ]
        }
      ]
    },
    {
      "cell_type": "code",
      "source": [
        "from sklearn.model_selection import GridSearchCV\n",
        "from sklearn.svm import LinearSVC\n",
        "\n",
        "param_grid = {\n",
        "    'C': [0.1, 1, 10],\n",
        "    'penalty': ['l2'],\n",
        "    'max_iter': [1000, 2000, 3000]\n",
        "}\n",
        "\n",
        "grid = GridSearchCV(LinearSVC(), param_grid, cv=5, verbose=1, n_jobs=-1)\n",
        "grid.fit(X_train, y_train)\n",
        "\n",
        "print(\"Best Parameters:\", grid.best_params_)\n"
      ],
      "metadata": {
        "colab": {
          "base_uri": "https://localhost:8080/"
        },
        "id": "gmS2U5FnBaqS",
        "outputId": "cbd950ec-8f2b-4dd8-f2d0-bc377c6f3e27"
      },
      "execution_count": 58,
      "outputs": [
        {
          "output_type": "stream",
          "name": "stdout",
          "text": [
            "Fitting 5 folds for each of 9 candidates, totalling 45 fits\n",
            "Best Parameters: {'C': 10, 'max_iter': 1000, 'penalty': 'l2'}\n"
          ]
        }
      ]
    },
    {
      "cell_type": "code",
      "source": [
        "best_model = LinearSVC(C=10, penalty='l2', max_iter=1000)\n",
        "best_model.fit(X_train, y_train)\n",
        "\n",
        "y_pred = best_model.predict(X_test)\n",
        "from sklearn.metrics import accuracy_score, classification_report\n",
        "\n",
        "new_accuracy = accuracy_score(y_test, y_pred)\n",
        "print(\"Improved Accuracy:\", new_accuracy)\n",
        "print(classification_report(y_test, y_pred))"
      ],
      "metadata": {
        "colab": {
          "base_uri": "https://localhost:8080/"
        },
        "id": "1kdaHatYgRJM",
        "outputId": "5442368e-5d1b-4b97-8ef1-6860bd0262ef"
      },
      "execution_count": 59,
      "outputs": [
        {
          "output_type": "stream",
          "name": "stdout",
          "text": [
            "Improved Accuracy: 0.7505030181086519\n",
            "                        precision    recall  f1-score   support\n",
            "\n",
            "            ACCOUNTANT       0.78      0.88      0.82        24\n",
            "              ADVOCATE       0.75      0.75      0.75        24\n",
            "           AGRICULTURE       0.78      0.54      0.64        13\n",
            "               APPAREL       0.82      0.47      0.60        19\n",
            "                  ARTS       0.71      0.48      0.57        21\n",
            "            AUTOMOBILE       1.00      0.43      0.60         7\n",
            "              AVIATION       0.86      0.79      0.83        24\n",
            "               BANKING       0.78      0.78      0.78        23\n",
            "                   BPO       0.33      0.25      0.29         4\n",
            "  BUSINESS-DEVELOPMENT       0.70      0.88      0.78        24\n",
            "                  CHEF       0.85      0.71      0.77        24\n",
            "          CONSTRUCTION       0.78      0.82      0.80        22\n",
            "            CONSULTANT       0.73      0.48      0.58        23\n",
            "              DESIGNER       0.86      0.90      0.88        21\n",
            "         DIGITAL-MEDIA       0.73      0.58      0.65        19\n",
            "           ENGINEERING       0.70      0.79      0.75        24\n",
            "               FINANCE       0.90      0.75      0.82        24\n",
            "               FITNESS       0.84      0.91      0.88        23\n",
            "            HEALTHCARE       0.68      0.74      0.71        23\n",
            "                    HR       0.84      0.95      0.89        22\n",
            "INFORMATION-TECHNOLOGY       0.80      1.00      0.89        24\n",
            "      PUBLIC-RELATIONS       0.59      0.77      0.67        22\n",
            "                 SALES       0.55      0.70      0.62        23\n",
            "               TEACHER       0.65      0.85      0.74        20\n",
            "\n",
            "              accuracy                           0.75       497\n",
            "             macro avg       0.75      0.72      0.72       497\n",
            "          weighted avg       0.76      0.75      0.74       497\n",
            "\n"
          ]
        }
      ]
    },
    {
      "cell_type": "markdown",
      "source": [
        "Phase 7: Compare Model Performance (Before vs After)"
      ],
      "metadata": {
        "id": "NkdCio2HBwAD"
      }
    },
    {
      "cell_type": "code",
      "source": [
        "import matplotlib.pyplot as plt\n",
        "import seaborn as sns\n",
        "from sklearn.metrics import confusion_matrix\n",
        "\n",
        "# Confusion matrix for the improved model\n",
        "cm = confusion_matrix(y_test, y_pred)\n",
        "\n",
        "plt.figure(figsize=(12,8))\n",
        "sns.heatmap(cm, cmap=\"Blues\", annot=True, fmt='d')\n",
        "plt.title(\"Confusion Matrix for Resume Classification (Improved Model)\")\n",
        "plt.xlabel(\"Predicted Category\")\n",
        "plt.ylabel(\"True Category\")\n",
        "plt.show()\n"
      ],
      "metadata": {
        "colab": {
          "base_uri": "https://localhost:8080/",
          "height": 672
        },
        "id": "F-70ttIHBdPK",
        "outputId": "1c407636-579d-4301-c038-3f691d1fdd54"
      },
      "execution_count": 61,
      "outputs": [
        {
          "output_type": "display_data",
          "data": {
            "text/plain": [
              "<Figure size 1200x800 with 2 Axes>"
            ],
            "image/png": "[encoded data removed]"
          },
          "metadata": {}
        }
      ]
    },
    {
      "cell_type": "code",
      "source": [
        "# Compare accuracies\n",
        "old_accuracy = 0.7364   # old SVM accuracy\n",
        "new_accuracy = new_accuracy  # from best_model above\n",
        "\n",
        "plt.figure(figsize=(6,4))\n",
        "plt.bar(['Before Improvement', 'After Improvement'],\n",
        "        [old_accuracy, new_accuracy],\n",
        "        width=0.4, color=['gray','blue'])\n",
        "plt.title('Model Accuracy Comparison')\n",
        "plt.ylabel('Accuracy Score')\n",
        "plt.ylim(0,1)\n",
        "plt.show()"
      ],
      "metadata": {
        "colab": {
          "base_uri": "https://localhost:8080/",
          "height": 391
        },
        "id": "pHZ2HSw0Bzgi",
        "outputId": "ea216a40-df75-4485-be6d-28706385fb9e"
      },
      "execution_count": 62,
      "outputs": [
        {
          "output_type": "display_data",
          "data": {
            "text/plain": [
              "<Figure size 600x400 with 1 Axes>"
            ],
            "image/png": "[encoded data removed]"
          },
          "metadata": {}
        }
      ]
    },
    {
      "cell_type": "markdown",
      "source": [
        "Phase 8: Save the Model and Vectorizer"
      ],
      "metadata": {
        "id": "NZx41s1qC16k"
      }
    },
    {
      "cell_type": "code",
      "source": [
        "import joblib\n",
        "\n",
        "joblib.dump(best_model, \"resume_classifier.pkl\")\n",
        "joblib.dump(tfidf, \"tfidf_vectorizer.pkl\")\n",
        "print(\"Model and vectorizer saved successfully!\")"
      ],
      "metadata": {
        "colab": {
          "base_uri": "https://localhost:8080/"
        },
        "id": "mfRx61MJB33D",
        "outputId": "a61b10d6-d72f-4e06-fa97-e7e137d1ce37"
      },
      "execution_count": 63,
      "outputs": [
        {
          "output_type": "stream",
          "name": "stdout",
          "text": [
            "Model and vectorizer saved successfully!\n"
          ]
        }
      ]
    },
    {
      "cell_type": "code",
      "source": [
        "from google.colab import files\n",
        "uploaded = files.upload()  # Upload resume_app.py here"
      ],
      "metadata": {
        "colab": {
          "base_uri": "https://localhost:8080/",
          "height": 73
        },
        "id": "lXDqYWZepov3",
        "outputId": "8546fc25-3814-4262-ea66-69f461baa48c"
      },
      "execution_count": 67,
      "outputs": [
        {
          "output_type": "display_data",
          "data": {
            "text/plain": [
              "<IPython.core.display.HTML object>"
            ],
            "text/html": [
              "\n",
              "     <input type=\"file\" id=\"files-607dee77-d31d-49c8-8c04-1a5e2f1d12f9\" name=\"files[]\" multiple disabled\n",
              "        style=\"border:none\" />\n",
              "     <output id=\"result-607dee77-d31d-49c8-8c04-1a5e2f1d12f9\">\n",
              "      Upload widget is only available when the cell has been executed in the\n",
              "      current browser session. Please rerun this cell to enable.\n",
              "      </output>\n",
              "      <script>// Copyright 2017 Google LLC\n",
              "//\n",
              "// Licensed under the Apache License, Version 2.0 (the \"License\");\n",
              "// you may not use this file except in compliance with the License.\n",
              "// You may obtain a copy of the License at\n",
              "//\n",
              "//      http://www.apache.org/licenses/LICENSE-2.0\n",
              "//\n",
              "// Unless required by applicable law or agreed to in writing, software\n",
              "// distributed under the License is distributed on an \"AS IS\" BASIS,\n",
              "// WITHOUT WARRANTIES OR CONDITIONS OF ANY KIND, either express or implied.\n",
              "// See the License for the specific language governing permissions and\n",
              "// limitations under the License.\n",
              "\n",
              "/**\n",
              " * @fileoverview Helpers for google.colab Python module.\n",
              " */\n",
              "(function(scope) {\n",
              "function span(text, styleAttributes = {}) {\n",
              "  const element = document.createElement('span');\n",
              "  element.textContent = text;\n",
              "  for (const key of Object.keys(styleAttributes)) {\n",
              "    element.style[key] = styleAttributes[key];\n",
              "  }\n",
              "  return element;\n",
              "}\n",
              "\n",
              "// Max number of bytes which will be uploaded at a time.\n",
              "const MAX_PAYLOAD_SIZE = 100 * 1024;\n",
              "\n",
              "function _uploadFiles(inputId, outputId) {\n",
              "  const steps = uploadFilesStep(inputId, outputId);\n",
              "  const outputElement = document.getElementById(outputId);\n",
              "  // Cache steps on the outputElement to make it available for the next call\n",
              "  // to uploadFilesContinue from Python.\n",
              "  outputElement.steps = steps;\n",
              "\n",
              "  return _uploadFilesContinue(outputId);\n",
              "}\n",
              "\n",
              "// This is roughly an async generator (not supported in the browser yet),\n",
              "// where there are multiple asynchronous steps and the Python side is going\n",
              "// to poll for completion of each step.\n",
              "// This uses a Promise to block the python side on completion of each step,\n",
              "// then passes the result of the previous step as the input to the next step.\n",
              "function _uploadFilesContinue(outputId) {\n",
              "  const outputElement = document.getElementById(outputId);\n",
              "  const steps = outputElement.steps;\n",
              "\n",
              "  const next = steps.next(outputElement.lastPromiseValue);\n",
              "  return Promise.resolve(next.value.promise).then((value) => {\n",
              "    // Cache the last promise value to make it available to the next\n",
              "    // step of the generator.\n",
              "    outputElement.lastPromiseValue = value;\n",
              "    return next.value.response;\n",
              "  });\n",
              "}\n",
              "\n",
              "/**\n",
              " * Generator function which is called between each async step of the upload\n",
              " * process.\n",
              " * @param {string} inputId Element ID of the input file picker element.\n",
              " * @param {string} outputId Element ID of the output display.\n",
              " * @return {!Iterable<!Object>} Iterable of next steps.\n",
              " */\n",
              "function* uploadFilesStep(inputId, outputId) {\n",
              "  const inputElement = document.getElementById(inputId);\n",
              "  inputElement.disabled = false;\n",
              "\n",
              "  const outputElement = document.getElementById(outputId);\n",
              "  outputElement.innerHTML = '';\n",
              "\n",
              "  const pickedPromise = new Promise((resolve) => {\n",
              "    inputElement.addEventListener('change', (e) => {\n",
              "      resolve(e.target.files);\n",
              "    });\n",
              "  });\n",
              "\n",
              "  const cancel = document.createElement('button');\n",
              "  inputElement.parentElement.appendChild(cancel);\n",
              "  cancel.textContent = 'Cancel upload';\n",
              "  const cancelPromise = new Promise((resolve) => {\n",
              "    cancel.onclick = () => {\n",
              "      resolve(null);\n",
              "    };\n",
              "  });\n",
              "\n",
              "  // Wait for the user to pick the files.\n",
              "  const files = yield {\n",
              "    promise: Promise.race([pickedPromise, cancelPromise]),\n",
              "    response: {\n",
              "      action: 'starting',\n",
              "    }\n",
              "  };\n",
              "\n",
              "  cancel.remove();\n",
              "\n",
              "  // Disable the input element since further picks are not allowed.\n",
              "  inputElement.disabled = true;\n",
              "\n",
              "  if (!files) {\n",
              "    return {\n",
              "      response: {\n",
              "        action: 'complete',\n",
              "      }\n",
              "    };\n",
              "  }\n",
              "\n",
              "  for (const file of files) {\n",
              "    const li = document.createElement('li');\n",
              "    li.append(span(file.name, {fontWeight: 'bold'}));\n",
              "    li.append(span(\n",
              "        `(${file.type || 'n/a'}) - ${file.size} bytes, ` +\n",
              "        `last modified: ${\n",
              "            file.lastModifiedDate ? file.lastModifiedDate.toLocaleDateString() :\n",
              "                                    'n/a'} - `));\n",
              "    const percent = span('0% done');\n",
              "    li.appendChild(percent);\n",
              "\n",
              "    outputElement.appendChild(li);\n",
              "\n",
              "    const fileDataPromise = new Promise((resolve) => {\n",
              "      const reader = new FileReader();\n",
              "      reader.onload = (e) => {\n",
              "        resolve(e.target.result);\n",
              "      };\n",
              "      reader.readAsArrayBuffer(file);\n",
              "    });\n",
              "    // Wait for the data to be ready.\n",
              "    let fileData = yield {\n",
              "      promise: fileDataPromise,\n",
              "      response: {\n",
              "        action: 'continue',\n",
              "      }\n",
              "    };\n",
              "\n",
              "    // Use a chunked sending to avoid message size limits. See b/62115660.\n",
              "    let position = 0;\n",
              "    do {\n",
              "      const length = Math.min(fileData.byteLength - position, MAX_PAYLOAD_SIZE);\n",
              "      const chunk = new Uint8Array(fileData, position, length);\n",
              "      position += length;\n",
              "\n",
              "      const base64 = btoa(String.fromCharCode.apply(null, chunk));\n",
              "      yield {\n",
              "        response: {\n",
              "          action: 'append',\n",
              "          file: file.name,\n",
              "          data: base64,\n",
              "        },\n",
              "      };\n",
              "\n",
              "      let percentDone = fileData.byteLength === 0 ?\n",
              "          100 :\n",
              "          Math.round((position / fileData.byteLength) * 100);\n",
              "      percent.textContent = `${percentDone}% done`;\n",
              "\n",
              "    } while (position < fileData.byteLength);\n",
              "  }\n",
              "\n",
              "  // All done.\n",
              "  yield {\n",
              "    response: {\n",
              "      action: 'complete',\n",
              "    }\n",
              "  };\n",
              "}\n",
              "\n",
              "scope.google = scope.google || {};\n",
              "scope.google.colab = scope.google.colab || {};\n",
              "scope.google.colab._files = {\n",
              "  _uploadFiles,\n",
              "  _uploadFilesContinue,\n",
              "};\n",
              "})(self);\n",
              "</script> "
            ]
          },
          "metadata": {}
        },
        {
          "output_type": "stream",
          "name": "stdout",
          "text": [
            "Saving app.py to app (1).py\n"
          ]
        }
      ]
    },
    {
      "cell_type": "code",
      "source": [
        "!ngrok authtoken 3105XZdIbfik8w23CqqErgGvfCD_7aWM63K2zBX9vdajWJyGg"
      ],
      "metadata": {
        "colab": {
          "base_uri": "https://localhost:8080/"
        },
        "id": "NYF3sScgpwbW",
        "outputId": "a3f9da93-d920-4eb8-ccfe-3fd73495e0d4"
      },
      "execution_count": 68,
      "outputs": [
        {
          "output_type": "stream",
          "name": "stdout",
          "text": [
            "Authtoken saved to configuration file: /root/.config/ngrok/ngrok.yml\n"
          ]
        }
      ]
    },
    {
      "cell_type": "code",
      "source": [
        "# Install ngrok\n",
        "!pip install pyngrok streamlit --quiet\n",
        "\n",
        "# Import ngrok\n",
        "from pyngrok import ngrok\n",
        "\n",
        "# Run Streamlit in the background\n",
        "!streamlit run resume_app.py &\n",
        "\n",
        "# Create public URL\n",
        "public_url = ngrok.connect(8501)\n",
        "print(\"Open this URL in your browser:\", public_url)"
      ],
      "metadata": {
        "colab": {
          "base_uri": "https://localhost:8080/"
        },
        "id": "xfN82bYVnzud",
        "outputId": "d64dbcb3-802f-45c1-ba26-4b3c7339e2d6"
      },
      "execution_count": 69,
      "outputs": [
        {
          "output_type": "stream",
          "name": "stdout",
          "text": [
            "Usage: streamlit run [OPTIONS] TARGET [ARGS]...\n",
            "Try 'streamlit run --help' for help.\n",
            "\n",
            "Error: Invalid value: File does not exist: resume_app.py\n",
            "Open this URL in your browser: NgrokTunnel: \"https://cfc782851cfc.ngrok-free.app\" -> \"http://localhost:8501\"\n"
          ]
        }
      ]
    },
    {
      "cell_type": "code",
      "source": [],
      "metadata": {
        "id": "jK-SeHsto6xn"
      },
      "execution_count": null,
      "outputs": []
    }
  ]
}